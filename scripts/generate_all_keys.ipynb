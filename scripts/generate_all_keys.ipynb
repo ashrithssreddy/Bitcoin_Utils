{
 "cells": [
  {
   "cell_type": "markdown",
   "id": "5b7c287a",
   "metadata": {},
   "source": [
    "# Bitcoin Wallet Key and Address Generation\n",
    "\n",
    "This notebook demonstrates how to generate a BIP-39 seed phrase, derive Bitcoin keys, and generate different types of Bitcoin addresses.\n",
    "\n",
    "- [Setup](#Setup)\n",
    "- [Seed Phrase](#Seed-Phrase)\n",
    "- [Binary Seed](#Binary-Seed)\n",
    "- [Master Private Key](#Master-Private-Key)\n",
    "- [Extended Private Key](#Extended-Private-Key)\n",
    "- [Generate Child Keys](#Generate-Child-Keys)\n",
    "- [Bitcoin Addresses](#Bitcoin-Addresses)"
   ]
  },
  {
   "cell_type": "markdown",
   "id": "b1adae4c",
   "metadata": {},
   "source": [
    "# Setup"
   ]
  },
  {
   "cell_type": "markdown",
   "id": "8c894d70",
   "metadata": {},
   "source": [
    "- Import Libraries"
   ]
  },
  {
   "cell_type": "code",
   "execution_count": 1,
   "id": "19c3c219",
   "metadata": {},
   "outputs": [],
   "source": [
    "from mnemonic import Mnemonic\n",
    "from bip32utils import BIP32Key\n",
    "import hashlib\n",
    "import base58\n",
    "import qrcode\n",
    "from IPython.display import display\n",
    "from qrcode.image.pil import PilImage"
   ]
  },
  {
   "cell_type": "markdown",
   "id": "06ee840b",
   "metadata": {},
   "source": [
    "- Prevent saving logs and checkpoints locally"
   ]
  },
  {
   "cell_type": "code",
   "execution_count": 2,
   "id": "31e6bd75",
   "metadata": {},
   "outputs": [],
   "source": [
    "%config NotebookNotary.db_file = ':memory:'"
   ]
  },
  {
   "cell_type": "code",
   "execution_count": 3,
   "id": "13e4d98d",
   "metadata": {},
   "outputs": [
    {
     "data": {
      "application/javascript": "IPython.notebook.set_autosave_interval(0)"
     },
     "metadata": {},
     "output_type": "display_data"
    },
    {
     "name": "stdout",
     "output_type": "stream",
     "text": [
      "Autosave disabled\n"
     ]
    }
   ],
   "source": [
    "%autosave 0"
   ]
  },
  {
   "cell_type": "markdown",
   "id": "6ce0666e",
   "metadata": {},
   "source": [
    "## Seed Phrase \n",
    "- And Validation"
   ]
  },
  {
   "cell_type": "code",
   "execution_count": 4,
   "id": "e4804872",
   "metadata": {},
   "outputs": [],
   "source": [
    "def generate_valid_seed_phrase():\n",
    "    \"\"\"\n",
    "    Generate a valid BIP-39 seed phrase.\n",
    "    \n",
    "    Returns:\n",
    "        str: A valid 12-word BIP-39 seed phrase.\n",
    "    \"\"\"\n",
    "    mnemo = Mnemonic(\"english\")\n",
    "    seed_phrase = mnemo.generate(strength=128)  # Generates a 12-word seed phrase\n",
    "    return seed_phrase\n"
   ]
  },
  {
   "cell_type": "code",
   "execution_count": 5,
   "id": "922b8471",
   "metadata": {},
   "outputs": [],
   "source": [
    "def validate_seed_phrase(seed_phrase):\n",
    "    \"\"\"\n",
    "    Validate a BIP-39 seed phrase for correct word count, valid words, and checksum.\n",
    "    \n",
    "    Args:\n",
    "        seed_phrase (str): The BIP-39 seed phrase to validate.\n",
    "    \n",
    "    Returns:\n",
    "        None: If the seed phrase is valid.\n",
    "    \n",
    "    Raises:\n",
    "        ValueError: If the seed phrase is invalid.\n",
    "    \"\"\"\n",
    "    mnemo = Mnemonic(\"english\")\n",
    "    seed_words = seed_phrase.split()\n",
    "\n",
    "    # Step 1: Validate word count (must be 12, 15, 18, 21, or 24)\n",
    "    valid_word_counts = [12, 15, 18, 21, 24]\n",
    "    if len(seed_words) not in valid_word_counts:\n",
    "        raise ValueError(f\"Invalid word count. Seed phrase must be one of the following word counts: {valid_word_counts}.\")\n",
    "    \n",
    "    # Step 2: Validate each word in the seed phrase is a valid BIP-39 word\n",
    "    bip39_wordlist = mnemo.wordlist\n",
    "    invalid_words = [word for word in seed_words if word not in bip39_wordlist]\n",
    "    \n",
    "    if invalid_words:\n",
    "        raise ValueError(f\"Invalid words in seed phrase: {', '.join(invalid_words)}. Ensure all words are valid BIP-39 words.\")\n",
    "    \n",
    "    # Step 3: Validate the checksum\n",
    "    if not mnemo.check(seed_phrase):\n",
    "        raise ValueError(\"Invalid BIP-39 seed phrase. Checksum does not match.\")\n",
    "    \n",
    "    # If all checks pass, print a success message\n",
    "    print(\"Seed phrase is valid!\")"
   ]
  },
  {
   "cell_type": "code",
   "execution_count": 6,
   "id": "98a66eff",
   "metadata": {},
   "outputs": [
    {
     "name": "stdout",
     "output_type": "stream",
     "text": [
      "\u001b[31mSeed: disorder piece fetch inflict rib liquid mistake betray skill beauty wheel resource\u001b[0m\n",
      "\n",
      "Seed phrase is valid!\n"
     ]
    }
   ],
   "source": [
    "seed_phrase = generate_valid_seed_phrase()\n",
    "passphrase = \"\"  # Optional passphrase (can be left blank)\n",
    "print(f\"\\033[31mSeed: {seed_phrase}\\033[0m\\n\")\n",
    "validate_seed_phrase(seed_phrase)"
   ]
  },
  {
   "cell_type": "markdown",
   "id": "e989b048",
   "metadata": {},
   "source": [
    "## Binary Seed"
   ]
  },
  {
   "cell_type": "code",
   "execution_count": 7,
   "id": "ec0fe681",
   "metadata": {},
   "outputs": [
    {
     "name": "stdout",
     "output_type": "stream",
     "text": [
      "Binary Seed: b'~J\\xba\\x0f\\xb9\\xb5\\xf0\\xcfZ\\xf5\\xf1\\xe3\\xc9\\xf1\\x9b\\xe962\\x12\\xd5,m\\x08\\xc2\\x14\\x0b\\x86n\\xe2_G\\x1ac\\xff\\xb5U\\ns\\x90\\xb5\\xb7\\t\\x12\\x8f\\xd4\\xc5\\xb7S\\xc7\\xb2\\xd6y\\xd6\\xec\\xcf[\\xf6\\x9c\\x8a\\x82\\\\S\\x9di' \n",
      "\n",
      "Binary Seed (hex): 7e4aba0fb9b5f0cf5af5f1e3c9f19be9363212d52c6d08c2140b866ee25f471a63ffb5550a7390b5b709128fd4c5b753c7b2d679d6eccf5bf69c8a825c539d69 \n",
      "\n"
     ]
    }
   ],
   "source": [
    "mnemo = Mnemonic(\"english\")\n",
    "binary_seed = mnemo.to_seed(seed_phrase)\n",
    "print(\"Binary Seed:\", binary_seed, \"\\n\")\n",
    "print(\"Binary Seed (hex):\", binary_seed.hex(), \"\\n\")"
   ]
  },
  {
   "cell_type": "markdown",
   "id": "78ab4169",
   "metadata": {},
   "source": [
    "## Master Private Key \n",
    "- and Chain Code"
   ]
  },
  {
   "cell_type": "code",
   "execution_count": 8,
   "id": "63973712",
   "metadata": {},
   "outputs": [
    {
     "name": "stdout",
     "output_type": "stream",
     "text": [
      "Master Private Key (WIF): KxmdNZYDymmA68JhJjEKbzwdg4FMTFfCdcRp1ZqwDNbNrSxUcvD3 \n",
      "\n",
      "Master Chain Code (hex): 8db61bd3ea66337419f8e68e8a95b50bd68853e2b476ae7f8773328b3ac8fbce \n",
      "\n"
     ]
    }
   ],
   "source": [
    "master_key = BIP32Key.fromEntropy(binary_seed)\n",
    "print(\"Master Private Key (WIF):\", master_key.WalletImportFormat(), \"\\n\")\n",
    "print(\"Master Chain Code (hex):\", master_key.ChainCode().hex(), \"\\n\")"
   ]
  },
  {
   "cell_type": "markdown",
   "id": "f0ac4edc",
   "metadata": {},
   "source": [
    "## Extended Private Key \n",
    "- Denoted as xPrv"
   ]
  },
  {
   "cell_type": "code",
   "execution_count": 9,
   "id": "eb872536",
   "metadata": {},
   "outputs": [
    {
     "name": "stdout",
     "output_type": "stream",
     "text": [
      "Extended Private Key (xPrv): xprv9s21ZrQH143K3UBsyuNFxJbRzhKokTPhSjZZr3prPUDWbQuQxEj3hVzr182UDvM5sJ755PV65ejm8ohEBHVxFYaTedfuQCK3A1G4rGN4ubz \n",
      "\n"
     ]
    }
   ],
   "source": [
    "print(\"Extended Private Key (xPrv):\", master_key.ExtendedKey(private=True), \"\\n\")"
   ]
  },
  {
   "cell_type": "markdown",
   "id": "6b72bc82",
   "metadata": {},
   "source": [
    "## Generate Child Keys\n",
    "- Private/Public Keys"
   ]
  },
  {
   "cell_type": "code",
   "execution_count": 10,
   "id": "a5b01c8d",
   "metadata": {},
   "outputs": [
    {
     "name": "stdout",
     "output_type": "stream",
     "text": [
      "########################################################################\n",
      "Child Key 1 (Private): L2roxHVPhkuEQTEYr4dcN7XJVtcCUhsvzJMqngXG1RWCutaUpGPA\n"
     ]
    },
    {
     "data": {
      "image/jpeg": "[encoded data removed]",
      "image/png": "[encoded data removed]",
      "text/plain": [
       "<qrcode.image.pil.PilImage at 0x10808a510>"
      ]
     },
     "metadata": {},
     "output_type": "display_data"
    },
    {
     "name": "stdout",
     "output_type": "stream",
     "text": [
      "Child Key 1 (Public): 029bc879888d77dca457db693f57bd92b8cf9aedfb2d5f7a58f025b735356ace78\n"
     ]
    }
   ],
   "source": [
    "num_children = 1\n",
    "child_keys = {}\n",
    "for i in range(num_children):\n",
    "    child_key = master_key.ChildKey(i)\n",
    "    child_keys[i] = {\n",
    "        \"private_key\": child_key.WalletImportFormat(),\n",
    "        \"public_key\": child_key.PublicKey().hex()\n",
    "    }\n",
    "\n",
    "for index, keys in child_keys.items():\n",
    "    print(\"########################################################################\")\n",
    "    print(f\"Child Key {index + 1} (Private): {keys['private_key']}\")\n",
    "    qr = qrcode.make(keys['private_key'], image_factory=PilImage)\n",
    "    display(qr)  # Display the QR code image inline\n",
    "    print(f\"Child Key {index + 1} (Public): {keys['public_key']}\")"
   ]
  },
  {
   "cell_type": "markdown",
   "id": "0726b802",
   "metadata": {},
   "source": [
    "## Bitcoin Addresses"
   ]
  },
  {
   "cell_type": "code",
   "execution_count": 11,
   "id": "61baef09",
   "metadata": {},
   "outputs": [],
   "source": [
    "def hash160(data):\n",
    "    sha256 = hashlib.sha256(data).digest()\n",
    "    ripemd160 = hashlib.new('ripemd160')\n",
    "    ripemd160.update(sha256)\n",
    "    return ripemd160.digest()\n",
    "\n",
    "def checksum(data):\n",
    "    return hashlib.sha256(hashlib.sha256(data).digest()).digest()[:4]\n",
    "\n",
    "def public_key_to_p2pkh_address(public_key):\n",
    "    prefix = b'\\x00'\n",
    "    pubkey_hash = hash160(public_key)\n",
    "    address = prefix + pubkey_hash\n",
    "    return base58.b58encode(address + checksum(address)).decode()\n",
    "\n",
    "def public_key_to_p2sh_p2wpkh_address(public_key):\n",
    "    prefix = b'\\x05'\n",
    "    witness_program = b'\\x00\\x14' + hash160(public_key)\n",
    "    address = prefix + hash160(witness_program)\n",
    "    return base58.b58encode(address + checksum(address)).decode()\n",
    "\n",
    "def public_key_to_bech32_address(public_key):\n",
    "    import bech32\n",
    "    witness_program = hash160(public_key)\n",
    "    return bech32.encode(\"bc\", 0, witness_program)"
   ]
  },
  {
   "cell_type": "code",
   "execution_count": 12,
   "id": "a5c40fc9",
   "metadata": {},
   "outputs": [
    {
     "name": "stdout",
     "output_type": "stream",
     "text": [
      "########################################################################\n"
     ]
    },
    {
     "data": {
      "image/jpeg": "[encoded data removed]",
      "image/png": "[encoded data removed]",
      "text/plain": [
       "<qrcode.image.pil.PilImage at 0x10884f9d0>"
      ]
     },
     "metadata": {},
     "output_type": "display_data"
    },
    {
     "name": "stdout",
     "output_type": "stream",
     "text": [
      "Child Key 1 Addresses:\n",
      "  P2PKH Address (Legacy): 1Fx1bYfuVmS3m2jZKszY2NDFuKNRVFnGit\n",
      "  P2SH-P2WPKH Address (Nested SegWit): 3GTG3gDGXkLJyeYceeVgqEedyVVehQ6opU\n",
      "  Bech32 Address (Native SegWit): bc1q50uj94vwxmrdk70803u6uwz8c8gvrs8j0gqky7\n",
      "\n"
     ]
    }
   ],
   "source": [
    "for index, keys in child_keys.items():\n",
    "    public_key_bytes = bytes.fromhex(keys['public_key'])\n",
    "    p2pkh_address = public_key_to_p2pkh_address(public_key_bytes)\n",
    "    p2sh_p2wpkh_address = public_key_to_p2sh_p2wpkh_address(public_key_bytes)\n",
    "    bech32_address = public_key_to_bech32_address(public_key_bytes)\n",
    "\n",
    "    print(\"########################################################################\")\n",
    "    qr = qrcode.make(bech32_address, image_factory=PilImage)\n",
    "    display(qr)  # Display the QR code image inline\n",
    "    print(f\"Child Key {index + 1} Addresses:\")\n",
    "    print(f\"  P2PKH Address (Legacy): {p2pkh_address}\")\n",
    "    print(f\"  P2SH-P2WPKH Address (Nested SegWit): {p2sh_p2wpkh_address}\")\n",
    "    print(f\"  Bech32 Address (Native SegWit): {bech32_address}\")\n",
    "    print()"
   ]
  }
 ],
 "metadata": {
  "kernelspec": {
   "display_name": "base",
   "language": "python",
   "name": "python3"
  },
  "language_info": {
   "codemirror_mode": {
    "name": "ipython",
    "version": 3
   },
   "file_extension": ".py",
   "mimetype": "text/x-python",
   "name": "python",
   "nbconvert_exporter": "python",
   "pygments_lexer": "ipython3",
   "version": "3.11.7"
  }
 },
 "nbformat": 4,
 "nbformat_minor": 5
}
