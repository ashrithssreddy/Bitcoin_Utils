{
 "cells": [
  {
   "cell_type": "markdown",
   "id": "5b7c287a",
   "metadata": {},
   "source": [
    "# Bitcoin Wallet Key and Address Generation\n",
    "\n",
    "This notebook demonstrates how to generate a BIP-39 seed phrase, derive Bitcoin keys, and generate different types of Bitcoin addresses."
   ]
  },
  {
   "cell_type": "markdown",
   "id": "8c894d70",
   "metadata": {},
   "source": [
    "- Import Libraries"
   ]
  },
  {
   "cell_type": "code",
   "execution_count": 1,
   "id": "19c3c219",
   "metadata": {},
   "outputs": [],
   "source": [
    "from mnemonic import Mnemonic\n",
    "from bip32utils import BIP32Key\n",
    "import hashlib\n",
    "import base58\n",
    "import qrcode\n",
    "from IPython.display import display\n",
    "from qrcode.image.pil import PilImage"
   ]
  },
  {
   "cell_type": "markdown",
   "id": "06ee840b",
   "metadata": {},
   "source": [
    "- Prevent saving logs and checkpoints locally"
   ]
  },
  {
   "cell_type": "code",
   "execution_count": 2,
   "id": "31e6bd75",
   "metadata": {},
   "outputs": [],
   "source": [
    "%config NotebookNotary.db_file = ':memory:'"
   ]
  },
  {
   "cell_type": "code",
   "execution_count": 3,
   "id": "13e4d98d",
   "metadata": {},
   "outputs": [
    {
     "data": {
      "application/javascript": [
       "IPython.notebook.set_autosave_interval(0)"
      ]
     },
     "metadata": {},
     "output_type": "display_data"
    },
    {
     "name": "stdout",
     "output_type": "stream",
     "text": [
      "Autosave disabled\n"
     ]
    }
   ],
   "source": [
    "%autosave 0"
   ]
  },
  {
   "cell_type": "code",
   "execution_count": 4,
   "id": "e4804872",
   "metadata": {},
   "outputs": [],
   "source": [
    "def generate_valid_seed_phrase():\n",
    "    \"\"\"\n",
    "    Generate a valid BIP-39 seed phrase.\n",
    "    \n",
    "    Returns:\n",
    "        str: A valid 12-word BIP-39 seed phrase.\n",
    "    \"\"\"\n",
    "    mnemo = Mnemonic(\"english\")\n",
    "    seed_phrase = mnemo.generate(strength=128)  # Generates a 12-word seed phrase\n",
    "    return seed_phrase\n"
   ]
  },
  {
   "cell_type": "code",
   "execution_count": 5,
   "id": "922b8471",
   "metadata": {},
   "outputs": [],
   "source": [
    "def validate_seed_phrase(seed_phrase):\n",
    "    \"\"\"\n",
    "    Validate a BIP-39 seed phrase for correct word count, valid words, and checksum.\n",
    "    \n",
    "    Args:\n",
    "        seed_phrase (str): The BIP-39 seed phrase to validate.\n",
    "    \n",
    "    Returns:\n",
    "        None: If the seed phrase is valid.\n",
    "    \n",
    "    Raises:\n",
    "        ValueError: If the seed phrase is invalid.\n",
    "    \"\"\"\n",
    "    mnemo = Mnemonic(\"english\")\n",
    "    seed_words = seed_phrase.split()\n",
    "\n",
    "    # Step 1: Validate word count (must be 12, 15, 18, 21, or 24)\n",
    "    valid_word_counts = [12, 15, 18, 21, 24]\n",
    "    if len(seed_words) not in valid_word_counts:\n",
    "        raise ValueError(f\"Invalid word count. Seed phrase must be one of the following word counts: {valid_word_counts}.\")\n",
    "    \n",
    "    # Step 2: Validate each word in the seed phrase is a valid BIP-39 word\n",
    "    bip39_wordlist = mnemo.wordlist\n",
    "    invalid_words = [word for word in seed_words if word not in bip39_wordlist]\n",
    "    \n",
    "    if invalid_words:\n",
    "        raise ValueError(f\"Invalid words in seed phrase: {', '.join(invalid_words)}. Ensure all words are valid BIP-39 words.\")\n",
    "    \n",
    "    # Step 3: Validate the checksum\n",
    "    if not mnemo.check(seed_phrase):\n",
    "        raise ValueError(\"Invalid BIP-39 seed phrase. Checksum does not match.\")\n",
    "    \n",
    "    # If all checks pass, print a success message\n",
    "    print(\"Seed phrase is valid!\")"
   ]
  },
  {
   "cell_type": "markdown",
   "id": "6ce0666e",
   "metadata": {},
   "source": [
    "## Generate Seed Phrase and Validate"
   ]
  },
  {
   "cell_type": "code",
   "execution_count": 6,
   "id": "98a66eff",
   "metadata": {},
   "outputs": [
    {
     "name": "stdout",
     "output_type": "stream",
     "text": [
      "\u001b[31mSeed: item jeans earn kangaroo such movie hole sick vessel lion energy medal\u001b[0m\n",
      "\n",
      "Seed phrase is valid!\n"
     ]
    }
   ],
   "source": [
    "seed_phrase = generate_valid_seed_phrase()\n",
    "passphrase = \"\"  # Optional passphrase (can be left blank)\n",
    "print(f\"\\033[31mSeed: {seed_phrase}\\033[0m\\n\")\n",
    "validate_seed_phrase(seed_phrase)"
   ]
  },
  {
   "cell_type": "markdown",
   "id": "e989b048",
   "metadata": {},
   "source": [
    "## Generate Binary Seed"
   ]
  },
  {
   "cell_type": "code",
   "execution_count": 7,
   "id": "ec0fe681",
   "metadata": {},
   "outputs": [
    {
     "name": "stdout",
     "output_type": "stream",
     "text": [
      "Binary Seed: b'\\xb3\\xf4\\xd0\\x8akp7u\\xf9\\xdc\\xa3U\\t7\\xd6A\\xb2\\xe0\\xc6\\xb7\\x04\\xbaPD\\xd4>D\\xce\\xb9i\\xde\\xba\\x0e\\xa7\\xb6\\xf5\\xd2\\xb8\\x80\\xc9\\x85!\\xf9\\x93\"\\x07\\xd1:\\x0f\\xbbd/\\xb0\\xfc*\\xc9\\x8d\\x1c\\xbc$\\x02\\x9a\\xb5\\x8d' \n",
      "\n",
      "Binary Seed (hex): b3f4d08a6b703775f9dca3550937d641b2e0c6b704ba5044d43e44ceb969deba0ea7b6f5d2b880c98521f9932207d13a0fbb642fb0fc2ac98d1cbc24029ab58d \n",
      "\n"
     ]
    }
   ],
   "source": [
    "mnemo = Mnemonic(\"english\")\n",
    "binary_seed = mnemo.to_seed(seed_phrase)\n",
    "print(\"Binary Seed:\", binary_seed, \"\\n\")\n",
    "print(\"Binary Seed (hex):\", binary_seed.hex(), \"\\n\")"
   ]
  },
  {
   "cell_type": "markdown",
   "id": "78ab4169",
   "metadata": {},
   "source": [
    "## Master Private Key and Chain Code"
   ]
  },
  {
   "cell_type": "code",
   "execution_count": 8,
   "id": "63973712",
   "metadata": {},
   "outputs": [
    {
     "name": "stdout",
     "output_type": "stream",
     "text": [
      "Master Private Key (WIF): Kzaae2MC3tfEhAft41dq3E7g6ex59ws3YtTA3WDABybvEcp3LLtj \n",
      "\n",
      "Master Chain Code (hex): eb15faca3266cf143f131e97328c7b0f9bf80d309573cc387ec3029972f0afef \n",
      "\n"
     ]
    }
   ],
   "source": [
    "master_key = BIP32Key.fromEntropy(binary_seed)\n",
    "print(\"Master Private Key (WIF):\", master_key.WalletImportFormat(), \"\\n\")\n",
    "print(\"Master Chain Code (hex):\", master_key.ChainCode().hex(), \"\\n\")"
   ]
  },
  {
   "cell_type": "markdown",
   "id": "f0ac4edc",
   "metadata": {},
   "source": [
    "## Extended Private Key (xPrv)"
   ]
  },
  {
   "cell_type": "code",
   "execution_count": 9,
   "id": "eb872536",
   "metadata": {},
   "outputs": [
    {
     "name": "stdout",
     "output_type": "stream",
     "text": [
      "Extended Private Key (xPrv): xprv9s21ZrQH143K4Q7BnKu8dbUYrqs2NM2B85VzGxwRat7s5NYUP1gz4ZWNjxmG3K4K6j7AibbCRRPw1uwRD22LQjkGBWUU6saBcRBv7LsugL5 \n",
      "\n"
     ]
    }
   ],
   "source": [
    "print(\"Extended Private Key (xPrv):\", master_key.ExtendedKey(private=True), \"\\n\")"
   ]
  },
  {
   "cell_type": "markdown",
   "id": "6b72bc82",
   "metadata": {},
   "source": [
    "## Generate Child Private/Public Keys"
   ]
  },
  {
   "cell_type": "code",
   "execution_count": 10,
   "id": "a5b01c8d",
   "metadata": {},
   "outputs": [
    {
     "name": "stdout",
     "output_type": "stream",
     "text": [
      "########################################################################\n",
      "Child Key 1 (Private): Kyypbr3wJvrGFVzjANfCCFtyzSQ6QrjgdCvcC1oyXZAk3g6BvBSE\n"
     ]
    },
    {
     "data": {
      "image/png": "[encoded data removed]",
      "text/plain": [
       "<qrcode.image.pil.PilImage at 0x10999e210>"
      ]
     },
     "metadata": {},
     "output_type": "display_data"
    },
    {
     "name": "stdout",
     "output_type": "stream",
     "text": [
      "Child Key 1 (Public): 03a6666d0e440c25896dd2dd2dc55b6e0d8d0c2650c75d9cc568c856aaa5188030\n"
     ]
    }
   ],
   "source": [
    "num_children = 1\n",
    "child_keys = {}\n",
    "for i in range(num_children):\n",
    "    child_key = master_key.ChildKey(i)\n",
    "    child_keys[i] = {\n",
    "        \"private_key\": child_key.WalletImportFormat(),\n",
    "        \"public_key\": child_key.PublicKey().hex()\n",
    "    }\n",
    "\n",
    "for index, keys in child_keys.items():\n",
    "    print(\"########################################################################\")\n",
    "    print(f\"Child Key {index + 1} (Private): {keys['private_key']}\")\n",
    "    qr = qrcode.make(keys['private_key'], image_factory=PilImage)\n",
    "    display(qr)  # Display the QR code image inline\n",
    "    print(f\"Child Key {index + 1} (Public): {keys['public_key']}\")"
   ]
  },
  {
   "cell_type": "markdown",
   "id": "0726b802",
   "metadata": {},
   "source": [
    "## Generate Bitcoin Addresses"
   ]
  },
  {
   "cell_type": "code",
   "execution_count": 11,
   "id": "61baef09",
   "metadata": {},
   "outputs": [],
   "source": [
    "def hash160(data):\n",
    "    sha256 = hashlib.sha256(data).digest()\n",
    "    ripemd160 = hashlib.new('ripemd160')\n",
    "    ripemd160.update(sha256)\n",
    "    return ripemd160.digest()\n",
    "\n",
    "def checksum(data):\n",
    "    return hashlib.sha256(hashlib.sha256(data).digest()).digest()[:4]\n",
    "\n",
    "def public_key_to_p2pkh_address(public_key):\n",
    "    prefix = b'\\x00'\n",
    "    pubkey_hash = hash160(public_key)\n",
    "    address = prefix + pubkey_hash\n",
    "    return base58.b58encode(address + checksum(address)).decode()\n",
    "\n",
    "def public_key_to_p2sh_p2wpkh_address(public_key):\n",
    "    prefix = b'\\x05'\n",
    "    witness_program = b'\\x00\\x14' + hash160(public_key)\n",
    "    address = prefix + hash160(witness_program)\n",
    "    return base58.b58encode(address + checksum(address)).decode()\n",
    "\n",
    "def public_key_to_bech32_address(public_key):\n",
    "    import bech32\n",
    "    witness_program = hash160(public_key)\n",
    "    return bech32.encode(\"bc\", 0, witness_program)"
   ]
  },
  {
   "cell_type": "code",
   "execution_count": 12,
   "id": "a5c40fc9",
   "metadata": {},
   "outputs": [
    {
     "name": "stdout",
     "output_type": "stream",
     "text": [
      "########################################################################\n"
     ]
    },
    {
     "data": {
      "image/png": "[encoded data removed]",
      "text/plain": [
       "<qrcode.image.pil.PilImage at 0x109e8bf90>"
      ]
     },
     "metadata": {},
     "output_type": "display_data"
    },
    {
     "name": "stdout",
     "output_type": "stream",
     "text": [
      "Child Key 1 Addresses:\n",
      "  P2PKH Address (Legacy): 1PGa2t2khxF8UCUQC3VtFJ3ujBRED5zJbi\n",
      "  P2SH-P2WPKH Address (Nested SegWit): 37CNgEaXZuuyP6ecMFW29y3e1zYp54tkQo\n",
      "  Bech32 Address (Native SegWit): bc1q73zff2eaelupvs6xm0hpp6pg5xx7xtarfkhcyc\n",
      "\n"
     ]
    }
   ],
   "source": [
    "for index, keys in child_keys.items():\n",
    "    public_key_bytes = bytes.fromhex(keys['public_key'])\n",
    "    p2pkh_address = public_key_to_p2pkh_address(public_key_bytes)\n",
    "    p2sh_p2wpkh_address = public_key_to_p2sh_p2wpkh_address(public_key_bytes)\n",
    "    bech32_address = public_key_to_bech32_address(public_key_bytes)\n",
    "\n",
    "    print(\"########################################################################\")\n",
    "    qr = qrcode.make(bech32_address, image_factory=PilImage)\n",
    "    display(qr)  # Display the QR code image inline\n",
    "    print(f\"Child Key {index + 1} Addresses:\")\n",
    "    print(f\"  P2PKH Address (Legacy): {p2pkh_address}\")\n",
    "    print(f\"  P2SH-P2WPKH Address (Nested SegWit): {p2sh_p2wpkh_address}\")\n",
    "    print(f\"  Bech32 Address (Native SegWit): {bech32_address}\")\n",
    "    print()"
   ]
  },
  {
   "cell_type": "code",
   "execution_count": null,
   "id": "17afad82",
   "metadata": {},
   "outputs": [],
   "source": []
  }
 ],
 "metadata": {
  "kernelspec": {
   "display_name": "Python 3 (ipykernel)",
   "language": "python",
   "name": "python3"
  },
  "language_info": {
   "codemirror_mode": {
    "name": "ipython",
    "version": 3
   },
   "file_extension": ".py",
   "mimetype": "text/x-python",
   "name": "python",
   "nbconvert_exporter": "python",
   "pygments_lexer": "ipython3",
   "version": "3.11.3"
  }
 },
 "nbformat": 4,
 "nbformat_minor": 5
}
