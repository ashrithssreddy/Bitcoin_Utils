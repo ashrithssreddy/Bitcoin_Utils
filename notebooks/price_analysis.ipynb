{
 "cells": [
  {
   "cell_type": "markdown",
   "id": "f9193c9e-b395-4d99-b848-bc4a67144594",
   "metadata": {},
   "source": [
    "# Contents\n",
    "1. [Setup](#Setup)\n",
    "2. [Data Validation](#Data-Validation)\n",
    "3. [EDA](#EDA)"
   ]
  },
  {
   "cell_type": "markdown",
   "id": "0f180245-4abf-4ad6-b10e-a3082be350aa",
   "metadata": {},
   "source": [
    "# Setup"
   ]
  },
  {
   "cell_type": "markdown",
   "id": "df56c94c-7e3b-4dea-85de-cd42c9261e02",
   "metadata": {},
   "source": [
    "#### Import Libraries"
   ]
  },
  {
   "cell_type": "code",
   "execution_count": 22,
   "id": "eb842f07-0d29-43b9-b991-dd7d5730ec79",
   "metadata": {},
   "outputs": [],
   "source": [
    "import requests\n",
    "import pandas as pd\n",
    "from datetime import datetime\n",
    "\n",
    "import tweepy\n",
    "import yaml\n",
    "\n",
    "import os\n",
    "os.chdir('/Users/ashrithreddy/Documents/bitcoin_utils/')"
   ]
  },
  {
   "cell_type": "markdown",
   "id": "0978effc-aecf-476e-94f1-f56d0e2d1710",
   "metadata": {},
   "source": [
    "#### Import API keys\n"
   ]
  },
  {
   "cell_type": "code",
   "execution_count": 23,
   "id": "ee76782d-7c48-4bfc-897a-a74f5ba55b5f",
   "metadata": {},
   "outputs": [
    {
     "data": {
      "text/plain": [
       "'8379999ad12062e9b27e6e4e374363befe1f8e1917f52e7814f16e78dd7fa54b'"
      ]
     },
     "execution_count": 23,
     "metadata": {},
     "output_type": "execute_result"
    }
   ],
   "source": [
    "with open(\"config/config.yaml\", \"r\") as file:\n",
    "    config = yaml.safe_load(file)\n",
    "\n",
    "cryptocompare_config = config['cryptocompare']\n",
    "\n",
    "# Cryptocompare API keys\n",
    "api_key = cryptocompare_config['api_key']\n",
    "api_key"
   ]
  },
  {
   "cell_type": "markdown",
   "id": "a902d496-1bf2-41b2-955c-83dbdab9c48e",
   "metadata": {},
   "source": [
    "#### Reading Data"
   ]
  },
  {
   "cell_type": "code",
   "execution_count": 25,
   "id": "fe2d8593-60cd-4c33-adce-758f4d99db6d",
   "metadata": {},
   "outputs": [],
   "source": [
    "# import requests\n",
    "# import pandas as pd\n",
    "# from datetime import datetime\n",
    "\n",
    "# # Define URL and parameters\n",
    "# url = \"https://api.coingecko.com/api/v3/coins/bitcoin/market_chart\"\n",
    "# params = {\n",
    "#     'vs_currency': 'usd',\n",
    "#     'days': '365',  # Past 365 days limit for free-tier users\n",
    "#     'interval': 'daily'\n",
    "# }\n",
    "\n",
    "# # Send request\n",
    "# response = requests.get(url, params=params)\n",
    "# data = response.json()\n",
    "\n",
    "# # Check if response contains an error\n",
    "# if 'prices' in data:\n",
    "#     dates = [datetime.fromtimestamp(item[0] / 1000).date() for item in data['prices']]\n",
    "#     prices = [item[1] for item in data['prices']]\n",
    "\n",
    "#     # Create DataFrame\n",
    "#     df = pd.DataFrame({'Date': dates, 'Price': prices})\n",
    "#     print(df.head())\n",
    "# else:\n",
    "#     print(\"Error:\", data.get('error', {}).get('error_message', 'An unknown error occurred'))\n"
   ]
  },
  {
   "cell_type": "code",
   "execution_count": 24,
   "id": "f219661c-5221-4f87-bac8-4d87077c11e0",
   "metadata": {},
   "outputs": [],
   "source": [
    "# df"
   ]
  },
  {
   "cell_type": "code",
   "execution_count": 26,
   "id": "114ca42e-4ec0-4318-a783-18763719285a",
   "metadata": {},
   "outputs": [],
   "source": [
    "# data"
   ]
  },
  {
   "cell_type": "code",
   "execution_count": 10,
   "id": "e3f3eee9-eb45-4122-9a6b-9027e1f1f851",
   "metadata": {},
   "outputs": [
    {
     "name": "stdout",
     "output_type": "stream",
     "text": [
      "Current BTC Price (USD): 67135.405\n"
     ]
    }
   ],
   "source": [
    "# import requests\n",
    "\n",
    "# # Coinbase API endpoint for a specific spot price\n",
    "# url = \"https://api.coinbase.com/v2/prices/BTC-USD/spot\"\n",
    "\n",
    "# response = requests.get(url)\n",
    "# data = response.json()\n",
    "\n",
    "# print(\"Current BTC Price (USD):\", data['data']['amount'])\n"
   ]
  },
  {
   "cell_type": "code",
   "execution_count": 39,
   "id": "f38e8c5f-69db-47ca-b8c1-78d74373ece8",
   "metadata": {},
   "outputs": [
    {
     "ename": "TypeError",
     "evalue": "Cannot compare Timestamp with datetime.date. Use ts == pd.Timestamp(date) or ts.date() == date instead.",
     "output_type": "error",
     "traceback": [
      "\u001b[0;31m---------------------------------------------------------------------------\u001b[0m",
      "\u001b[0;31mTypeError\u001b[0m                                 Traceback (most recent call last)",
      "Cell \u001b[0;32mIn[39], line 58\u001b[0m\n\u001b[1;32m     47\u001b[0m year_df \u001b[38;5;241m=\u001b[39m pd\u001b[38;5;241m.\u001b[39mDataFrame({\n\u001b[1;32m     48\u001b[0m     \u001b[38;5;124m'\u001b[39m\u001b[38;5;124mDate\u001b[39m\u001b[38;5;124m'\u001b[39m: dates,\n\u001b[1;32m     49\u001b[0m     \u001b[38;5;124m'\u001b[39m\u001b[38;5;124mOpen\u001b[39m\u001b[38;5;124m'\u001b[39m: open_prices,\n\u001b[0;32m   (...)\u001b[0m\n\u001b[1;32m     54\u001b[0m     \u001b[38;5;124m'\u001b[39m\u001b[38;5;124mVolume_To\u001b[39m\u001b[38;5;124m'\u001b[39m: volume_to\n\u001b[1;32m     55\u001b[0m })\n\u001b[1;32m     57\u001b[0m \u001b[38;5;66;03m# Filter the DataFrame to only include rows from the target year\u001b[39;00m\n\u001b[0;32m---> 58\u001b[0m year_df \u001b[38;5;241m=\u001b[39m year_df[(year_df[\u001b[38;5;124m'\u001b[39m\u001b[38;5;124mDate\u001b[39m\u001b[38;5;124m'\u001b[39m] \u001b[38;5;241m>\u001b[39m\u001b[38;5;241m=\u001b[39m pd\u001b[38;5;241m.\u001b[39mTimestamp(\u001b[38;5;124mf\u001b[39m\u001b[38;5;124m'\u001b[39m\u001b[38;5;132;01m{\u001b[39;00myear\u001b[38;5;132;01m}\u001b[39;00m\u001b[38;5;124m-01-01\u001b[39m\u001b[38;5;124m'\u001b[39m)) \u001b[38;5;241m&\u001b[39m \n\u001b[1;32m     59\u001b[0m                   (year_df[\u001b[38;5;124m'\u001b[39m\u001b[38;5;124mDate\u001b[39m\u001b[38;5;124m'\u001b[39m] \u001b[38;5;241m<\u001b[39m\u001b[38;5;241m=\u001b[39m pd\u001b[38;5;241m.\u001b[39mTimestamp(\u001b[38;5;124mf\u001b[39m\u001b[38;5;124m'\u001b[39m\u001b[38;5;132;01m{\u001b[39;00myear\u001b[38;5;132;01m}\u001b[39;00m\u001b[38;5;124m-12-31\u001b[39m\u001b[38;5;124m'\u001b[39m))]\n\u001b[1;32m     61\u001b[0m \u001b[38;5;66;03m# Save the filtered data to a CSV file\u001b[39;00m\n\u001b[1;32m     62\u001b[0m year_df\u001b[38;5;241m.\u001b[39mto_csv(\u001b[38;5;124mf\u001b[39m\u001b[38;5;124m'\u001b[39m\u001b[38;5;124mdata/BTC_Price_\u001b[39m\u001b[38;5;132;01m{\u001b[39;00myear\u001b[38;5;132;01m}\u001b[39;00m\u001b[38;5;124m.csv\u001b[39m\u001b[38;5;124m'\u001b[39m, index\u001b[38;5;241m=\u001b[39m\u001b[38;5;28;01mFalse\u001b[39;00m)\n",
      "File \u001b[0;32m/opt/anaconda3/lib/python3.11/site-packages/pandas/core/ops/common.py:76\u001b[0m, in \u001b[0;36m_unpack_zerodim_and_defer.<locals>.new_method\u001b[0;34m(self, other)\u001b[0m\n\u001b[1;32m     72\u001b[0m             \u001b[38;5;28;01mreturn\u001b[39;00m \u001b[38;5;28mNotImplemented\u001b[39m\n\u001b[1;32m     74\u001b[0m other \u001b[38;5;241m=\u001b[39m item_from_zerodim(other)\n\u001b[0;32m---> 76\u001b[0m \u001b[38;5;28;01mreturn\u001b[39;00m method(\u001b[38;5;28mself\u001b[39m, other)\n",
      "File \u001b[0;32m/opt/anaconda3/lib/python3.11/site-packages/pandas/core/arraylike.py:60\u001b[0m, in \u001b[0;36mOpsMixin.__ge__\u001b[0;34m(self, other)\u001b[0m\n\u001b[1;32m     58\u001b[0m \u001b[38;5;129m@unpack_zerodim_and_defer\u001b[39m(\u001b[38;5;124m\"\u001b[39m\u001b[38;5;124m__ge__\u001b[39m\u001b[38;5;124m\"\u001b[39m)\n\u001b[1;32m     59\u001b[0m \u001b[38;5;28;01mdef\u001b[39;00m \u001b[38;5;21m__ge__\u001b[39m(\u001b[38;5;28mself\u001b[39m, other):\n\u001b[0;32m---> 60\u001b[0m     \u001b[38;5;28;01mreturn\u001b[39;00m \u001b[38;5;28mself\u001b[39m\u001b[38;5;241m.\u001b[39m_cmp_method(other, operator\u001b[38;5;241m.\u001b[39mge)\n",
      "File \u001b[0;32m/opt/anaconda3/lib/python3.11/site-packages/pandas/core/series.py:5803\u001b[0m, in \u001b[0;36mSeries._cmp_method\u001b[0;34m(self, other, op)\u001b[0m\n\u001b[1;32m   5800\u001b[0m lvalues \u001b[38;5;241m=\u001b[39m \u001b[38;5;28mself\u001b[39m\u001b[38;5;241m.\u001b[39m_values\n\u001b[1;32m   5801\u001b[0m rvalues \u001b[38;5;241m=\u001b[39m extract_array(other, extract_numpy\u001b[38;5;241m=\u001b[39m\u001b[38;5;28;01mTrue\u001b[39;00m, extract_range\u001b[38;5;241m=\u001b[39m\u001b[38;5;28;01mTrue\u001b[39;00m)\n\u001b[0;32m-> 5803\u001b[0m res_values \u001b[38;5;241m=\u001b[39m ops\u001b[38;5;241m.\u001b[39mcomparison_op(lvalues, rvalues, op)\n\u001b[1;32m   5805\u001b[0m \u001b[38;5;28;01mreturn\u001b[39;00m \u001b[38;5;28mself\u001b[39m\u001b[38;5;241m.\u001b[39m_construct_result(res_values, name\u001b[38;5;241m=\u001b[39mres_name)\n",
      "File \u001b[0;32m/opt/anaconda3/lib/python3.11/site-packages/pandas/core/ops/array_ops.py:346\u001b[0m, in \u001b[0;36mcomparison_op\u001b[0;34m(left, right, op)\u001b[0m\n\u001b[1;32m    343\u001b[0m     \u001b[38;5;28;01mreturn\u001b[39;00m invalid_comparison(lvalues, rvalues, op)\n\u001b[1;32m    345\u001b[0m \u001b[38;5;28;01melif\u001b[39;00m lvalues\u001b[38;5;241m.\u001b[39mdtype \u001b[38;5;241m==\u001b[39m \u001b[38;5;28mobject\u001b[39m \u001b[38;5;129;01mor\u001b[39;00m \u001b[38;5;28misinstance\u001b[39m(rvalues, \u001b[38;5;28mstr\u001b[39m):\n\u001b[0;32m--> 346\u001b[0m     res_values \u001b[38;5;241m=\u001b[39m comp_method_OBJECT_ARRAY(op, lvalues, rvalues)\n\u001b[1;32m    348\u001b[0m \u001b[38;5;28;01melse\u001b[39;00m:\n\u001b[1;32m    349\u001b[0m     res_values \u001b[38;5;241m=\u001b[39m _na_arithmetic_op(lvalues, rvalues, op, is_cmp\u001b[38;5;241m=\u001b[39m\u001b[38;5;28;01mTrue\u001b[39;00m)\n",
      "File \u001b[0;32m/opt/anaconda3/lib/python3.11/site-packages/pandas/core/ops/array_ops.py:131\u001b[0m, in \u001b[0;36mcomp_method_OBJECT_ARRAY\u001b[0;34m(op, x, y)\u001b[0m\n\u001b[1;32m    129\u001b[0m     result \u001b[38;5;241m=\u001b[39m libops\u001b[38;5;241m.\u001b[39mvec_compare(x\u001b[38;5;241m.\u001b[39mravel(), y\u001b[38;5;241m.\u001b[39mravel(), op)\n\u001b[1;32m    130\u001b[0m \u001b[38;5;28;01melse\u001b[39;00m:\n\u001b[0;32m--> 131\u001b[0m     result \u001b[38;5;241m=\u001b[39m libops\u001b[38;5;241m.\u001b[39mscalar_compare(x\u001b[38;5;241m.\u001b[39mravel(), y, op)\n\u001b[1;32m    132\u001b[0m \u001b[38;5;28;01mreturn\u001b[39;00m result\u001b[38;5;241m.\u001b[39mreshape(x\u001b[38;5;241m.\u001b[39mshape)\n",
      "File \u001b[0;32mops.pyx:107\u001b[0m, in \u001b[0;36mpandas._libs.ops.scalar_compare\u001b[0;34m()\u001b[0m\n",
      "File \u001b[0;32mtimestamps.pyx:378\u001b[0m, in \u001b[0;36mpandas._libs.tslibs.timestamps._Timestamp.__richcmp__\u001b[0;34m()\u001b[0m\n",
      "\u001b[0;31mTypeError\u001b[0m: Cannot compare Timestamp with datetime.date. Use ts == pd.Timestamp(date) or ts.date() == date instead."
     ]
    }
   ],
   "source": [
    "import requests\n",
    "import pandas as pd\n",
    "from datetime import datetime\n",
    "\n",
    "url = \"https://min-api.cryptocompare.com/data/v2/histoday\"\n",
    "\n",
    "# Define the range of years to retrieve\n",
    "start_year = 2015\n",
    "end_year = 2024\n",
    "\n",
    "# Initialize an empty DataFrame to store all data\n",
    "all_data = pd.DataFrame()\n",
    "\n",
    "for year in range(start_year, end_year + 1):\n",
    "    # Set the timestamp for the end of the current year\n",
    "    end_of_year = datetime(year, 12, 31)\n",
    "    to_ts = int(end_of_year.timestamp())\n",
    "    \n",
    "    # Set up the parameters for each year's data\n",
    "    params = {\n",
    "        'fsym': 'BTC',\n",
    "        'tsym': 'USD',\n",
    "        'limit': 365,  # Maximum of 365 days to capture full year data\n",
    "        'toTs': to_ts,\n",
    "        'api_key': api_key\n",
    "    }\n",
    "\n",
    "    # Request the data for the specific year\n",
    "    response = requests.get(url, params=params)\n",
    "    data = response.json()\n",
    "\n",
    "    # Check if the response was successful\n",
    "    if data.get('Response') == 'Success':\n",
    "        # Access the nested data under 'Data' > 'Data'\n",
    "        daily_data = data['Data']['Data']\n",
    "        \n",
    "        # Extract date and all price-related fields\n",
    "        dates = [datetime.fromtimestamp(item['time']).date() for item in daily_data]\n",
    "        open_prices = [item['open'] for item in daily_data]\n",
    "        high_prices = [item['high'] for item in daily_data]\n",
    "        low_prices = [item['low'] for item in daily_data]\n",
    "        close_prices = [item['close'] for item in daily_data]\n",
    "        volume_from = [item['volumefrom'] for item in daily_data]\n",
    "        volume_to = [item['volumeto'] for item in daily_data]\n",
    "        \n",
    "        # Create DataFrame for the current year\n",
    "        year_df = pd.DataFrame({\n",
    "            'Date': dates,\n",
    "            'Open': open_prices,\n",
    "            'High': high_prices,\n",
    "            'Low': low_prices,\n",
    "            'Close': close_prices,\n",
    "            'Volume_From': volume_from,\n",
    "            'Volume_To': volume_to\n",
    "        })\n",
    "        year_df.to_csv(f'data/BTC_Price_{year}.csv', index=False)\n",
    "        \n",
    "        # Append the year's data to the main DataFrame\n",
    "        all_data = pd.concat([all_data, year_df], ignore_index=True)\n",
    "        print(f\"Data for {year} retrieved successfully.\")\n",
    "    else:\n",
    "        print(f\"Error retrieving data for {year}:\", data.get('Message', 'An unknown error occurred'))\n",
    "\n",
    "# Display the first and last few rows of the complete dataset\n",
    "print(all_data.head())\n",
    "print(all_data.tail())"
   ]
  },
  {
   "cell_type": "code",
   "execution_count": 44,
   "id": "b382adc4-0de9-4e26-b6a1-d3fcd62b4117",
   "metadata": {},
   "outputs": [
    {
     "name": "stdout",
     "output_type": "stream",
     "text": [
      "Data for 2015 retrieved and filtered successfully.\n",
      "Data for 2016 retrieved and filtered successfully.\n",
      "Data for 2017 retrieved and filtered successfully.\n",
      "Data for 2018 retrieved and filtered successfully.\n",
      "Data for 2019 retrieved and filtered successfully.\n",
      "Data for 2020 retrieved and filtered successfully.\n",
      "Data for 2021 retrieved and filtered successfully.\n",
      "Data for 2022 retrieved and filtered successfully.\n",
      "Data for 2023 retrieved and filtered successfully.\n",
      "Data for 2024 retrieved and filtered successfully.\n",
      "        Date    Open    High     Low   Close  Volume_From    Volume_To\n",
      "0 2015-01-01  314.89  316.40  313.08  315.21     14728.97   4673971.80\n",
      "1 2015-01-02  315.21  315.83  284.89  287.13     47366.46  14209564.70\n",
      "2 2015-01-03  287.13  289.94  255.87  264.72     88769.22  24255392.10\n",
      "3 2015-01-04  264.72  278.32  262.89  274.84     54993.28  14995382.75\n",
      "4 2015-01-05  274.84  285.11  271.52  282.27     21939.38   6097640.43\n",
      "           Date      Open      High       Low     Close  Volume_From  \\\n",
      "3573 2024-10-22  67390.32  67436.29  65171.54  66612.97     32488.79   \n",
      "3574 2024-10-23  66612.97  68812.40  66456.70  68163.56     31715.51   \n",
      "3575 2024-10-24  68163.56  68745.57  65510.53  66577.77     43824.41   \n",
      "3576 2024-10-25  66577.77  67366.46  66343.25  67014.72     14159.11   \n",
      "3577 2024-10-26  67014.72  67227.13  66852.50  67097.66      1959.23   \n",
      "\n",
      "         Volume_To  \n",
      "3573  2.154644e+09  \n",
      "3574  2.144280e+09  \n",
      "3575  2.952725e+09  \n",
      "3576  9.464474e+08  \n",
      "3577  1.313161e+08  \n"
     ]
    }
   ],
   "source": [
    "# import requests\n",
    "# import pandas as pd\n",
    "# from datetime import datetime\n",
    "\n",
    "# url = \"https://min-api.cryptocompare.com/data/v2/histoday\"\n",
    "\n",
    "# # Define the range of years to retrieve\n",
    "# start_year = 2015\n",
    "# end_year = 2024\n",
    "\n",
    "# # Initialize an empty DataFrame to store all data\n",
    "# all_data = pd.DataFrame()\n",
    "\n",
    "# for year in range(start_year, end_year + 1):\n",
    "#     # Set the timestamp for the end of the current year\n",
    "#     end_of_year = datetime(year, 12, 31)\n",
    "#     to_ts = int(end_of_year.timestamp())\n",
    "    \n",
    "#     # Set up the parameters for each year's data\n",
    "#     params = {\n",
    "#         'fsym': 'BTC',\n",
    "#         'tsym': 'USD',\n",
    "#         'limit': 366,  # Set to 366 to capture up to December 31\n",
    "#         'toTs': to_ts,\n",
    "#         'api_key': api_key\n",
    "#     }\n",
    "\n",
    "#     # Request the data for the specific year\n",
    "#     response = requests.get(url, params=params)\n",
    "#     data = response.json()\n",
    "\n",
    "#     # Check if the response was successful\n",
    "#     if data.get('Response') == 'Success':\n",
    "#         # Access the nested data under 'Data' > 'Data'\n",
    "#         daily_data = data['Data']['Data']\n",
    "        \n",
    "#         # Extract date and all price-related fields\n",
    "#         dates = [datetime.fromtimestamp(item['time']).date() for item in daily_data]\n",
    "#         open_prices = [item['open'] for item in daily_data]\n",
    "#         high_prices = [item['high'] for item in daily_data]\n",
    "#         low_prices = [item['low'] for item in daily_data]\n",
    "#         close_prices = [item['close'] for item in daily_data]\n",
    "#         volume_from = [item['volumefrom'] for item in daily_data]\n",
    "#         volume_to = [item['volumeto'] for item in daily_data]\n",
    "        \n",
    "#         # Create DataFrame for the current year\n",
    "#         year_df = pd.DataFrame({\n",
    "#             'Date': pd.to_datetime(dates),  # Convert dates to pd.Timestamp format\n",
    "#             'Open': open_prices,\n",
    "#             'High': high_prices,\n",
    "#             'Low': low_prices,\n",
    "#             'Close': close_prices,\n",
    "#             'Volume_From': volume_from,\n",
    "#             'Volume_To': volume_to\n",
    "#         })\n",
    "        \n",
    "#         # Filter the DataFrame to only include rows from the target year\n",
    "#         year_df = year_df[(year_df['Date'] >= f'{year}-01-01') & \n",
    "#                           (year_df['Date'] <= f'{year}-12-31')]\n",
    "        \n",
    "#         # Save the filtered data to a CSV file\n",
    "#         year_df.to_csv(f'data/BTC_Price_{year}.csv', index=False)\n",
    "        \n",
    "#         # Append the year's filtered data to the main DataFrame\n",
    "#         all_data = pd.concat([all_data, year_df], ignore_index=True)\n",
    "#         print(f\"Data for {year} retrieved and filtered successfully.\")\n",
    "#     else:\n",
    "#         print(f\"Error retrieving data for {year}:\", data.get('Message', 'An unknown error occurred'))\n",
    "\n",
    "# # Display the first and last few rows of the complete dataset\n",
    "# print(all_data.head())\n",
    "# print(all_data.tail())\n"
   ]
  },
  {
   "cell_type": "code",
   "execution_count": 46,
   "id": "f1617ae2-839f-4c7a-b97d-16dca64db8d0",
   "metadata": {},
   "outputs": [
    {
     "name": "stdout",
     "output_type": "stream",
     "text": [
      "   Year   Min_Date   Max_Date  Unique_Dates_Count\n",
      "0  2015 2015-01-01 2015-12-30                 364\n",
      "1  2016 2016-01-01 2016-12-30                 365\n",
      "2  2017 2017-01-01 2017-12-30                 364\n",
      "3  2018 2018-01-01 2018-12-30                 364\n",
      "4  2019 2019-01-01 2019-12-30                 364\n",
      "5  2020 2020-01-01 2020-12-30                 365\n",
      "6  2021 2021-01-01 2021-12-30                 364\n",
      "7  2022 2022-01-01 2022-12-30                 364\n",
      "8  2023 2023-01-01 2023-12-30                 364\n",
      "9  2024 2024-01-01 2024-10-26                 300\n"
     ]
    }
   ],
   "source": [
    "# import pandas as pd\n",
    "\n",
    "# # Ensure 'Date' column is in datetime format\n",
    "# all_data['Date'] = pd.to_datetime(all_data['Date'])\n",
    "\n",
    "# # Extract the year from the 'Date' column\n",
    "# all_data['Year'] = all_data['Date'].dt.year\n",
    "\n",
    "# # Group by year and calculate min date, max date, and count of unique dates\n",
    "# yearly_summary = all_data.groupby('Year').agg(\n",
    "#     Min_Date=('Date', 'min'),\n",
    "#     Max_Date=('Date', 'max'),\n",
    "#     Unique_Dates_Count=('Date', 'nunique')\n",
    "# ).reset_index()\n",
    "\n",
    "# print(yearly_summary)\n"
   ]
  },
  {
   "cell_type": "code",
   "execution_count": 47,
   "id": "fc00e117-5850-4e94-a737-061b61597b89",
   "metadata": {},
   "outputs": [
    {
     "name": "stdout",
     "output_type": "stream",
     "text": [
      "Data chunk from 2013-04-28 to 2014-04-27 retrieved successfully.\n",
      "Data chunk from 2014-04-28 to 2015-04-27 retrieved successfully.\n",
      "Data chunk from 2015-04-28 to 2016-04-26 retrieved successfully.\n",
      "Data chunk from 2016-04-27 to 2017-04-26 retrieved successfully.\n",
      "Data chunk from 2017-04-27 to 2018-04-26 retrieved successfully.\n",
      "Data chunk from 2018-04-27 to 2019-04-26 retrieved successfully.\n",
      "Data chunk from 2019-04-27 to 2020-04-25 retrieved successfully.\n",
      "Data chunk from 2020-04-26 to 2021-04-25 retrieved successfully.\n",
      "Data chunk from 2021-04-26 to 2022-04-25 retrieved successfully.\n",
      "Data chunk from 2022-04-26 to 2023-04-25 retrieved successfully.\n",
      "Data chunk from 2023-04-26 to 2024-04-24 retrieved successfully.\n",
      "Data chunk from 2024-04-25 to 2024-10-27 retrieved successfully.\n",
      "Data for 2013 saved successfully.\n",
      "Data for 2014 saved successfully.\n",
      "Data for 2015 saved successfully.\n",
      "Data for 2016 saved successfully.\n",
      "Data for 2017 saved successfully.\n",
      "Data for 2018 saved successfully.\n",
      "Data for 2019 saved successfully.\n",
      "Data for 2020 saved successfully.\n",
      "Data for 2021 saved successfully.\n",
      "Data for 2022 saved successfully.\n",
      "Data for 2023 saved successfully.\n",
      "Data for 2024 saved successfully.\n",
      "        Date    Open    High     Low   Close  Volume_From    Volume_To  Year\n",
      "0 2013-04-26  136.90  139.88  122.71  128.00     59870.79   7853806.49  2013\n",
      "1 2013-04-27  128.00  136.68  127.50  134.44     27503.11   3662548.48  2013\n",
      "2 2013-04-28  134.44  149.08  133.00  144.00     70186.33   9983975.08  2013\n",
      "3 2013-04-29  144.00  146.93  134.00  139.23     65198.58   9119200.99  2013\n",
      "4 2013-04-30  139.23  140.06  104.00  116.38    179988.85  21787942.86  2013\n",
      "           Date      Open      High       Low     Close  Volume_From  \\\n",
      "4387 2024-10-22  67390.32  67436.29  65171.54  66612.97     32488.79   \n",
      "4388 2024-10-23  66612.97  68812.40  66456.70  68163.56     31715.51   \n",
      "4389 2024-10-24  68163.56  68745.57  65510.53  66577.77     43824.41   \n",
      "4390 2024-10-25  66577.77  67366.46  66343.25  67014.72     14159.11   \n",
      "4391 2024-10-26  67014.72  67227.13  66852.50  67112.59      1974.50   \n",
      "\n",
      "         Volume_To  Year  \n",
      "4387  2.154644e+09  2024  \n",
      "4388  2.144280e+09  2024  \n",
      "4389  2.952725e+09  2024  \n",
      "4390  9.464474e+08  2024  \n",
      "4391  1.323407e+08  2024  \n"
     ]
    }
   ],
   "source": [
    "import requests\n",
    "import pandas as pd\n",
    "from datetime import datetime, timedelta\n",
    "\n",
    "url = \"https://min-api.cryptocompare.com/data/v2/histoday\"\n",
    "\n",
    "# Starting timestamp (earliest BTC data available)\n",
    "start_date = datetime(2013, 4, 28)  # Earliest available date\n",
    "end_date = datetime.now()            # Retrieve data up to today\n",
    "\n",
    "# Initialize an empty DataFrame to store all data\n",
    "all_data = pd.DataFrame()\n",
    "\n",
    "# Loop through dates in 365-day chunks\n",
    "while start_date < end_date:\n",
    "    # Set end date for this chunk to be 365 days from start_date or the actual end_date\n",
    "    chunk_end_date = min(start_date + timedelta(days=364), end_date)\n",
    "    to_ts = int(chunk_end_date.timestamp())\n",
    "    \n",
    "    # Set up the parameters for the API request\n",
    "    params = {\n",
    "        'fsym': 'BTC',\n",
    "        'tsym': 'USD',\n",
    "        'limit': 365,\n",
    "        'toTs': to_ts,\n",
    "        'api_key': api_key\n",
    "    }\n",
    "\n",
    "    # Request the data for the chunk\n",
    "    response = requests.get(url, params=params)\n",
    "    data = response.json()\n",
    "\n",
    "    # Check if the response was successful\n",
    "    if data.get('Response') == 'Success':\n",
    "        # Access the nested data under 'Data' > 'Data'\n",
    "        daily_data = data['Data']['Data']\n",
    "        \n",
    "        # Extract date and all price-related fields\n",
    "        dates = [datetime.fromtimestamp(item['time']).date() for item in daily_data]\n",
    "        open_prices = [item['open'] for item in daily_data]\n",
    "        high_prices = [item['high'] for item in daily_data]\n",
    "        low_prices = [item['low'] for item in daily_data]\n",
    "        close_prices = [item['close'] for item in daily_data]\n",
    "        volume_from = [item['volumefrom'] for item in daily_data]\n",
    "        volume_to = [item['volumeto'] for item in daily_data]\n",
    "        \n",
    "        # Create DataFrame for this chunk\n",
    "        chunk_df = pd.DataFrame({\n",
    "            'Date': pd.to_datetime(dates),\n",
    "            'Open': open_prices,\n",
    "            'High': high_prices,\n",
    "            'Low': low_prices,\n",
    "            'Close': close_prices,\n",
    "            'Volume_From': volume_from,\n",
    "            'Volume_To': volume_to\n",
    "        })\n",
    "        \n",
    "        # Append chunk data to the main DataFrame\n",
    "        all_data = pd.concat([all_data, chunk_df], ignore_index=True)\n",
    "        print(f\"Data chunk from {start_date.date()} to {chunk_end_date.date()} retrieved successfully.\")\n",
    "    else:\n",
    "        print(\"Error retrieving data:\", data.get('Message', 'An unknown error occurred'))\n",
    "    \n",
    "    # Move start_date to the next day after the current chunk_end_date\n",
    "    start_date = chunk_end_date + timedelta(days=1)\n",
    "\n",
    "# Now all_data contains the full dataset; let's organize it by calendar year\n",
    "all_data['Year'] = all_data['Date'].dt.year\n",
    "\n",
    "# Save data for each calendar year in separate files\n",
    "for year, year_df in all_data.groupby('Year'):\n",
    "    # Filter data to the specific calendar year and save to CSV\n",
    "    year_df.to_csv(f'data/BTC_Price_{year}.csv', index=False)\n",
    "    print(f\"Data for {year} saved successfully.\")\n",
    "\n",
    "# Display the first and last few rows of the complete dataset for verification\n",
    "print(all_data.head())\n",
    "print(all_data.tail())\n"
   ]
  },
  {
   "cell_type": "code",
   "execution_count": 34,
   "id": "98465672-429f-427b-83d6-0dc04dacaa0b",
   "metadata": {
    "scrolled": true
   },
   "outputs": [],
   "source": [
    "# data"
   ]
  },
  {
   "cell_type": "markdown",
   "id": "9a5b9bde-af92-4fab-b060-5be3ba9e6e14",
   "metadata": {},
   "source": [
    "[Back to the top](#Contents)"
   ]
  },
  {
   "cell_type": "markdown",
   "id": "5fd9c199-2286-4b8c-91e3-a9a870370e68",
   "metadata": {},
   "source": [
    "# Data Validation"
   ]
  },
  {
   "cell_type": "markdown",
   "id": "3e45df56-6d8e-4227-9676-e1383c8c9e47",
   "metadata": {},
   "source": [
    "[Back to the top](#Contents)"
   ]
  },
  {
   "cell_type": "markdown",
   "id": "07b39b61-9e99-49e2-9a26-6ed4b8024976",
   "metadata": {},
   "source": [
    "# EDA"
   ]
  },
  {
   "cell_type": "markdown",
   "id": "4c0751d9-f881-40cd-901f-af1350b34ff1",
   "metadata": {},
   "source": [
    "[Back to the top](#Contents)"
   ]
  },
  {
   "cell_type": "code",
   "execution_count": null,
   "id": "178cc17e-5078-4ac9-96be-437acfd689bd",
   "metadata": {},
   "outputs": [],
   "source": []
  },
  {
   "cell_type": "code",
   "execution_count": null,
   "id": "739f4dd8-1df4-4d7d-ab2e-34111377dd36",
   "metadata": {},
   "outputs": [],
   "source": []
  },
  {
   "cell_type": "code",
   "execution_count": null,
   "id": "e9d1b61c-3fff-45d0-9941-cbea54da17dd",
   "metadata": {},
   "outputs": [],
   "source": []
  },
  {
   "cell_type": "markdown",
   "id": "d4f8c509-17ff-4421-a812-97495ecaaf98",
   "metadata": {},
   "source": [
    "# Junk"
   ]
  },
  {
   "cell_type": "markdown",
   "id": "6f4d1d88-910e-41b0-a6c6-b428e747d36d",
   "metadata": {},
   "source": [
    "[Back to the top](#Contents)"
   ]
  },
  {
   "cell_type": "code",
   "execution_count": null,
   "id": "765d688b-d8ef-4bd8-9bba-984147e2d492",
   "metadata": {},
   "outputs": [],
   "source": []
  }
 ],
 "metadata": {
  "kernelspec": {
   "display_name": "Python 3 (ipykernel)",
   "language": "python",
   "name": "python3"
  },
  "language_info": {
   "codemirror_mode": {
    "name": "ipython",
    "version": 3
   },
   "file_extension": ".py",
   "mimetype": "text/x-python",
   "name": "python",
   "nbconvert_exporter": "python",
   "pygments_lexer": "ipython3",
   "version": "3.11.7"
  }
 },
 "nbformat": 4,
 "nbformat_minor": 5
}
