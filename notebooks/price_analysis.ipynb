{
 "cells": [
  {
   "cell_type": "markdown",
   "id": "f9193c9e-b395-4d99-b848-bc4a67144594",
   "metadata": {},
   "source": [
    "# Contents\n",
    "1. [Setup](#Setup)\n",
    "2. [Data Validation](#Data-Validation)\n",
    "3. [EDA](#EDA)"
   ]
  },
  {
   "cell_type": "markdown",
   "id": "0f180245-4abf-4ad6-b10e-a3082be350aa",
   "metadata": {},
   "source": [
    "# Setup"
   ]
  },
  {
   "cell_type": "markdown",
   "id": "df56c94c-7e3b-4dea-85de-cd42c9261e02",
   "metadata": {},
   "source": [
    "#### Import Libraries"
   ]
  },
  {
   "cell_type": "code",
   "execution_count": null,
   "id": "eb842f07-0d29-43b9-b991-dd7d5730ec79",
   "metadata": {},
   "outputs": [],
   "source": [
    "import requests\n",
    "import pandas as pd\n",
    "from datetime import datetime"
   ]
  },
  {
   "cell_type": "markdown",
   "id": "a902d496-1bf2-41b2-955c-83dbdab9c48e",
   "metadata": {},
   "source": [
    "#### Reading Data"
   ]
  },
  {
   "cell_type": "code",
   "execution_count": null,
   "id": "fe2d8593-60cd-4c33-adce-758f4d99db6d",
   "metadata": {},
   "outputs": [],
   "source": [
    "# Endpoint for CoinGecko's BTC daily market data\n",
    "url = \"https://api.coingecko.com/api/v3/coins/bitcoin/market_chart\"\n",
    "params = {\n",
    "    'vs_currency': 'usd',  # Currency in which price is returned\n",
    "    'days': 'max',         # Get data for the maximum range available\n",
    "    'interval': 'daily'    # Interval set to daily\n",
    "}\n",
    "\n",
    "# Requesting data from the API\n",
    "response = requests.get(url, params=params)\n",
    "data = response.json()\n",
    "\n",
    "# Processing the response to create a DataFrame\n",
    "dates = [datetime.fromtimestamp(item[0] / 1000).date() for item in data['prices']]\n",
    "prices = [item[1] for item in data['prices']]\n",
    "\n",
    "# Create DataFrame with date and price columns\n",
    "df = pd.DataFrame({'Date': dates, 'Price': prices})\n",
    "\n",
    "# Display the first few rows\n",
    "print(df.head())"
   ]
  },
  {
   "cell_type": "markdown",
   "id": "9a5b9bde-af92-4fab-b060-5be3ba9e6e14",
   "metadata": {},
   "source": [
    "[Back to the top](#Contents)"
   ]
  },
  {
   "cell_type": "markdown",
   "id": "5fd9c199-2286-4b8c-91e3-a9a870370e68",
   "metadata": {},
   "source": [
    "# Data Validation"
   ]
  },
  {
   "cell_type": "markdown",
   "id": "3e45df56-6d8e-4227-9676-e1383c8c9e47",
   "metadata": {},
   "source": [
    "[Back to the top](#Contents)"
   ]
  },
  {
   "cell_type": "markdown",
   "id": "07b39b61-9e99-49e2-9a26-6ed4b8024976",
   "metadata": {},
   "source": [
    "# EDA"
   ]
  },
  {
   "cell_type": "markdown",
   "id": "4c0751d9-f881-40cd-901f-af1350b34ff1",
   "metadata": {},
   "source": [
    "[Back to the top](#Contents)"
   ]
  },
  {
   "cell_type": "code",
   "execution_count": null,
   "id": "99b50a45-773b-47b3-bf02-b7c63ff71340",
   "metadata": {},
   "outputs": [],
   "source": []
  }
 ],
 "metadata": {
  "kernelspec": {
   "display_name": "Python 3 (ipykernel)",
   "language": "python",
   "name": "python3"
  },
  "language_info": {
   "codemirror_mode": {
    "name": "ipython",
    "version": 3
   },
   "file_extension": ".py",
   "mimetype": "text/x-python",
   "name": "python",
   "nbconvert_exporter": "python",
   "pygments_lexer": "ipython3",
   "version": "3.11.7"
  }
 },
 "nbformat": 4,
 "nbformat_minor": 5
}
