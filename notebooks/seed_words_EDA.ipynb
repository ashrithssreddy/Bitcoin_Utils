{
 "cells": [
  {
   "cell_type": "markdown",
   "metadata": {},
   "source": [
    "# Contents\n",
    "1. [Setup](#Setup)\n",
    "2. [Data Validation](#Data-Validation)\n",
    "3. [EDA](#EDA)"
   ]
  },
  {
   "cell_type": "markdown",
   "metadata": {},
   "source": [
    "# Setup"
   ]
  },
  {
   "cell_type": "markdown",
   "metadata": {},
   "source": [
    "#### Import Libraries"
   ]
  },
  {
   "cell_type": "code",
   "execution_count": 46,
   "metadata": {},
   "outputs": [],
   "source": [
    "# File and OS handling\n",
    "import os\n",
    "import PyPDF2\n",
    "\n",
    "# Data manipulation\n",
    "import pandas as pd\n",
    "import numpy as np\n",
    "\n",
    "# Visualization\n",
    "import matplotlib.pyplot as plt\n",
    "\n",
    "# Other utilities\n",
    "from collections import Counter"
   ]
  },
  {
   "cell_type": "markdown",
   "metadata": {},
   "source": [
    "#### Reading Data"
   ]
  },
  {
   "cell_type": "code",
   "execution_count": 33,
   "metadata": {},
   "outputs": [
    {
     "name": "stdout",
     "output_type": "stream",
     "text": [
      "['abandon', 'ability', 'able', 'about', 'above', 'absent', 'absorb', 'abstract', 'absurd', 'abuse', 'access', 'accident', 'account', 'accuse', 'achieve', 'acid', 'acoustic', 'acquire', 'across', 'act']\n"
     ]
    }
   ],
   "source": [
    "# Function to extract text from the PDF\n",
    "def extract_words_from_pdf(pdf_path):\n",
    "    with open(pdf_path, 'rb') as file:\n",
    "        reader = PyPDF2.PdfReader(file)\n",
    "        text = \"\"\n",
    "        for page_num in range(len(reader.pages)):\n",
    "            page = reader.pages[page_num]\n",
    "            text += page.extract_text()\n",
    "        \n",
    "        # Clean the text and split it into words\n",
    "        words = text.split()\n",
    "        return words\n",
    "\n",
    "# Extract words from the PDF\n",
    "pdf_path = 'bip_39_wordlist_revb.pdf'\n",
    "words = extract_words_from_pdf(pdf_path)\n",
    "\n",
    "# Print the first few words to check\n",
    "print(words[:20])"
   ]
  },
  {
   "cell_type": "markdown",
   "metadata": {},
   "source": [
    "[Back to the top](#Contents)"
   ]
  },
  {
   "cell_type": "markdown",
   "metadata": {},
   "source": [
    "# Data Validation"
   ]
  },
  {
   "cell_type": "markdown",
   "metadata": {},
   "source": [
    "#### Validating Word List Size \n",
    "Check if the BIP-39 word list contains exactly 2048 words. If the size does not match, it raises an error. This ensures the integrity of the list size before proceeding to any further checks."
   ]
  },
  {
   "cell_type": "code",
   "execution_count": 51,
   "metadata": {},
   "outputs": [
    {
     "name": "stdout",
     "output_type": "stream",
     "text": [
      "Validation passed: Word list contains exactly 2048 words.\n"
     ]
    }
   ],
   "source": [
    "def validate_word_list_size(words):\n",
    "    \"\"\"\n",
    "    Validates that the BIP-39 word list contains exactly 2048 words.\n",
    "    \n",
    "    Raises:\n",
    "        ValueError: If the word list does not contain exactly 2048 words.\n",
    "    \"\"\"\n",
    "    expected_size = 2048\n",
    "    actual_size = len(words)\n",
    "    \n",
    "    if actual_size != expected_size:\n",
    "        raise ValueError(f\"Word list size validation failed. Expected {expected_size} words, but got {actual_size}.\")\n",
    "    \n",
    "    print(f\"Validation passed: Word list contains exactly {actual_size} words.\")\n",
    "\n",
    "validate_word_list_size(words)"
   ]
  },
  {
   "cell_type": "markdown",
   "metadata": {},
   "source": [
    "#### Word List Uniqueness\n",
    "- The function validate_word_list_uniqueness ensures that all words in the BIP-39 word list are unique. \n",
    "- If any duplicates are found, it raises an error, helping to confirm the integrity of the word list."
   ]
  },
  {
   "cell_type": "code",
   "execution_count": 52,
   "metadata": {},
   "outputs": [
    {
     "name": "stdout",
     "output_type": "stream",
     "text": [
      "Validation passed: All 2048 words are unique.\n"
     ]
    }
   ],
   "source": [
    "def validate_word_list_uniqueness(words):\n",
    "    \"\"\"\n",
    "    Validates that all words in the BIP-39 word list are unique.\n",
    "    \n",
    "    Raises:\n",
    "        ValueError: If there are duplicate words in the word list.\n",
    "    \"\"\"\n",
    "    unique_words = set(words)\n",
    "    if len(unique_words) != len(words):\n",
    "        raise ValueError(f\"Word list uniqueness validation failed. Found {len(words) - len(unique_words)} duplicates.\")\n",
    "    \n",
    "    print(f\"Validation passed: All {len(words)} words are unique.\")\n",
    "validate_word_list_uniqueness(words)"
   ]
  },
  {
   "cell_type": "markdown",
   "metadata": {},
   "source": [
    "#### Validating Unique First Four Letters\n",
    "This checks that each word in the BIP-39 word list is unique based on its first four letters. If duplicates are found in the first four letters of any words, it raises an error."
   ]
  },
  {
   "cell_type": "code",
   "execution_count": 54,
   "metadata": {},
   "outputs": [
    {
     "name": "stdout",
     "output_type": "stream",
     "text": [
      "Validation passed: All words have unique first four letters.\n"
     ]
    }
   ],
   "source": [
    "def validate_unique_first_four_letters(words):\n",
    "    \"\"\"\n",
    "    Validates that each word in the BIP-39 word list is unique based on its first four letters.\n",
    "    \n",
    "    Raises:\n",
    "        ValueError: If any two words have the same first four letters.\n",
    "    \"\"\"\n",
    "    # Extract first four letters of each word\n",
    "    first_four_letters = [word[:4] for word in words]\n",
    "    \n",
    "    # Convert to a set to remove duplicates and compare lengths\n",
    "    unique_first_four_letters = set(first_four_letters)\n",
    "    \n",
    "    if len(unique_first_four_letters) != len(words):\n",
    "        duplicates = len(words) - len(unique_first_four_letters)\n",
    "        raise ValueError(f\"Validation failed: Found {duplicates} words with duplicate first four letters.\")\n",
    "    \n",
    "    print(f\"Validation passed: All words have unique first four letters.\")\n",
    "\n",
    "validate_unique_first_four_letters(words)"
   ]
  },
  {
   "cell_type": "markdown",
   "metadata": {},
   "source": [
    "### Validating Alphabetical Order\n",
    "- Checks if the words in the BIP-39 word list are in alphabetical order. \n",
    "- If they are not, it raises an error specifying that the list is not sorted."
   ]
  },
  {
   "cell_type": "code",
   "execution_count": 56,
   "metadata": {},
   "outputs": [
    {
     "name": "stdout",
     "output_type": "stream",
     "text": [
      "Validation passed: Word list is in alphabetical order.\n"
     ]
    }
   ],
   "source": [
    "def validate_alphabetical_order(words):\n",
    "    \"\"\"\n",
    "    Validates that the BIP-39 word list is in alphabetical order.\n",
    "    \n",
    "    Raises:\n",
    "        ValueError: If the words are not in alphabetical order.\n",
    "    \"\"\"\n",
    "    # Check if the list is sorted\n",
    "    if words != sorted(words):\n",
    "        raise ValueError(\"Validation failed: Word list is not in alphabetical order.\")\n",
    "    \n",
    "    print(\"Validation passed: Word list is in alphabetical order.\")\n",
    "\n",
    "# Example usage\n",
    "validate_alphabetical_order(words)"
   ]
  },
  {
   "cell_type": "markdown",
   "metadata": {},
   "source": [
    "[Back to the top](#Contents)"
   ]
  },
  {
   "cell_type": "markdown",
   "metadata": {},
   "source": [
    "# EDA"
   ]
  },
  {
   "cell_type": "markdown",
   "metadata": {},
   "source": [
    "### Word Length Distribution\n",
    "- Understanding the distribution of word lengths can help identify if there are any patterns or biases in the seed words, which might affect user recall or recognition. \n",
    "- Additionally, most words in the list are between 4 and 8 letters long. This ensures that they are not too short (which could be harder to distinguish) or too long (which could be difficult to remember)."
   ]
  },
  {
   "cell_type": "code",
   "execution_count": 29,
   "metadata": {},
   "outputs": [
    {
     "data": {
      "image/png": "[encoded data removed]",
      "text/plain": [
       "<Figure size 600x800 with 1 Axes>"
      ]
     },
     "metadata": {},
     "output_type": "display_data"
    }
   ],
   "source": [
    "# Calculate word lengths\n",
    "word_lengths = [len(word) for word in words]\n",
    "\n",
    "# Create a DataFrame for visualization\n",
    "df_lengths = pd.DataFrame({'word': words, 'length': word_lengths})\n",
    "\n",
    "# Plot distribution\n",
    "# Calculate total words for percentage\n",
    "total_words = len(df_lengths)\n",
    "\n",
    "# Set bin edges\n",
    "bins = np.arange(min(df_lengths['length']) - 0.5, max(df_lengths['length']) + 1.5, 1)\n",
    "plt.figure(figsize=(6, 8)) \n",
    "\n",
    "# Plot histogram with counts\n",
    "counts, bins, patches = plt.hist(df_lengths['length'], bins=bins, edgecolor='black')\n",
    "plt.title('Word Length Distribution')\n",
    "plt.xlabel('Word Length')\n",
    "plt.ylabel('Frequency')\n",
    "\n",
    "# Annotate with count and percentage\n",
    "for count, patch in zip(counts, patches):\n",
    "    height = patch.get_height()\n",
    "    percentage = (count / total_words) * 100\n",
    "    plt.annotate(f'{int(count)}\\n({percentage:.1f}%)', xy=(patch.get_x() + patch.get_width() / 2, height),\n",
    "                 xytext=(0, 3), textcoords='offset points', ha='center')\n",
    "\n",
    "# Set consistent x-ticks\n",
    "plt.xticks(np.arange(min(word_lengths), max(word_lengths) + 1, 1))\n",
    "\n",
    "plt.show()\n"
   ]
  },
  {
   "cell_type": "markdown",
   "metadata": {},
   "source": [
    "[Back to the top](#Contents)"
   ]
  },
  {
   "cell_type": "markdown",
   "metadata": {},
   "source": [
    "### Word Frequency Analysis\n",
    "`Motivation`: Analyzing the starting letter of each word helps identify biases in the first letter, which could lead to easier or more difficult recall for users.\n",
    "\n",
    "\n",
    "\n"
   ]
  },
  {
   "cell_type": "code",
   "execution_count": 42,
   "metadata": {},
   "outputs": [
    {
     "data": {
      "text/plain": [
       "<Figure size 1200x1200 with 0 Axes>"
      ]
     },
     "metadata": {},
     "output_type": "display_data"
    },
    {
     "data": {
      "image/png": "[encoded data removed]",
      "text/plain": [
       "<Figure size 640x480 with 1 Axes>"
      ]
     },
     "metadata": {},
     "output_type": "display_data"
    }
   ],
   "source": [
    "# Get first letter of each word\n",
    "first_letters = [word[0] for word in words]\n",
    "\n",
    "# Count occurrences of each letter\n",
    "letter_counts = Counter(first_letters)\n",
    "\n",
    "# Convert to DataFrame for visualization\n",
    "df_letters = pd.DataFrame(list(letter_counts.items()), columns=['letter', 'count'])\n",
    "\n",
    "# Calculate total number of words for percentage\n",
    "total_words = sum(letter_counts.values())\n",
    "\n",
    "# Create a larger figure size\n",
    "plt.figure(figsize=(12, 12))  # Increase width and height of the canvas\n",
    "\n",
    "# Plot the counts of starting letters\n",
    "ax = df_letters.sort_values(by='count', ascending=False).plot(kind='bar', x='letter', y='count', legend=False)\n",
    "plt.title('Starting Letter Frequency')\n",
    "plt.xlabel('Starting Letter')\n",
    "plt.ylabel('Frequency')\n",
    "\n",
    "# Annotate with percentages on top of bars\n",
    "for p in ax.patches:\n",
    "    percentage = (p.get_height() / total_words) * 100  # Calculate percentage\n",
    "    ax.annotate(f'{percentage:.1f}%', (p.get_x() + p.get_width() / 2., p.get_height()),\n",
    "                ha='center', va='bottom', xytext=(0, 3), textcoords='offset points', fontsize=7)  # Smaller font size\n",
    "\n",
    "# Set x-tick labels with no rotation\n",
    "ax.set_xticklabels(df_letters['letter'], rotation=0)\n",
    "\n",
    "# Show plot\n",
    "plt.show()\n"
   ]
  },
  {
   "cell_type": "markdown",
   "metadata": {},
   "source": [
    "[Back to the top](#Contents)"
   ]
  },
  {
   "cell_type": "markdown",
   "metadata": {},
   "source": [
    "### Jaccard Distance"
   ]
  },
  {
   "cell_type": "code",
   "execution_count": null,
   "metadata": {},
   "outputs": [],
   "source": []
  },
  {
   "cell_type": "markdown",
   "metadata": {},
   "source": [
    "# 99 Stray Codes"
   ]
  },
  {
   "cell_type": "code",
   "execution_count": 49,
   "metadata": {},
   "outputs": [],
   "source": [
    "# ls -l /Users/ashrithreddy/Documents/bitcoin_utils/data/bip_39_wordlist_revb.pdf\n",
    "# import os\n",
    "# os.getcwd()\n",
    "\n",
    "# pdf_path = os.path.join(os.path.expanduser(\"~\"), 'Documents', 'bitcoin_utils', 'data', 'bip_39_wordlist_revb.pdf')\n",
    "# pdf_path\n",
    "# pdf_path = '/Users/ashrithreddy/Documents/bitcoin_utils/data/bip_39_wordlist_revb.pdf'\n",
    "# /Users/ashrithreddy/Documents/bitcoin_utils/data/"
   ]
  },
  {
   "cell_type": "code",
   "execution_count": 50,
   "metadata": {},
   "outputs": [],
   "source": [
    "# os.getcwd()"
   ]
  }
 ],
 "metadata": {
  "kernelspec": {
   "display_name": "Python 3",
   "language": "python",
   "name": "python3"
  },
  "language_info": {
   "codemirror_mode": {
    "name": "ipython",
    "version": 3
   },
   "file_extension": ".py",
   "mimetype": "text/x-python",
   "name": "python",
   "nbconvert_exporter": "python",
   "pygments_lexer": "ipython3",
   "version": "3.11.7"
  }
 },
 "nbformat": 4,
 "nbformat_minor": 2
}
