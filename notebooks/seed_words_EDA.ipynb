{
 "cells": [
  {
   "cell_type": "markdown",
   "metadata": {},
   "source": [
    "# Contents\n",
    "1. [Setup](#Setup)\n",
    "2. [Data Validation](#Data-Validation)\n",
    "3. [EDA](#EDA)"
   ]
  },
  {
   "cell_type": "markdown",
   "metadata": {},
   "source": [
    "# Setup"
   ]
  },
  {
   "cell_type": "markdown",
   "metadata": {},
   "source": [
    "#### Import Libraries"
   ]
  },
  {
   "cell_type": "code",
   "execution_count": 57,
   "metadata": {},
   "outputs": [],
   "source": [
    "# File and OS handling\n",
    "import os\n",
    "import PyPDF2\n",
    "\n",
    "# Data manipulation\n",
    "import pandas as pd\n",
    "import numpy as np\n",
    "\n",
    "# Visualization\n",
    "import matplotlib.pyplot as plt\n",
    "\n",
    "# Other utilities\n",
    "from collections import Counter"
   ]
  },
  {
   "cell_type": "markdown",
   "metadata": {},
   "source": [
    "#### Reading Data"
   ]
  },
  {
   "cell_type": "code",
   "execution_count": 58,
   "metadata": {},
   "outputs": [
    {
     "name": "stdout",
     "output_type": "stream",
     "text": [
      "['abandon', 'ability', 'able', 'about', 'above', 'absent', 'absorb', 'abstract', 'absurd', 'abuse', 'access', 'accident', 'account', 'accuse', 'achieve', 'acid', 'acoustic', 'acquire', 'across', 'act']\n"
     ]
    }
   ],
   "source": [
    "# Function to extract text from the PDF\n",
    "def extract_words_from_pdf(pdf_path):\n",
    "    with open(pdf_path, 'rb') as file:\n",
    "        reader = PyPDF2.PdfReader(file)\n",
    "        text = \"\"\n",
    "        for page_num in range(len(reader.pages)):\n",
    "            page = reader.pages[page_num]\n",
    "            text += page.extract_text()\n",
    "        \n",
    "        # Clean the text and split it into words\n",
    "        words = text.split()\n",
    "        return words\n",
    "\n",
    "# Extract words from the PDF\n",
    "pdf_path = 'bip_39_wordlist_revb.pdf'\n",
    "words = extract_words_from_pdf(pdf_path)\n",
    "\n",
    "# Print the first few words to check\n",
    "print(words[:20])"
   ]
  },
  {
   "cell_type": "markdown",
   "metadata": {},
   "source": [
    "[Back to the top](#Contents)"
   ]
  },
  {
   "cell_type": "markdown",
   "metadata": {},
   "source": [
    "# Data Validation"
   ]
  },
  {
   "cell_type": "markdown",
   "metadata": {},
   "source": [
    "#### Validating Word List Size \n",
    "Check if the BIP-39 word list contains exactly 2048 words. If the size does not match, it raises an error. This ensures the integrity of the list size before proceeding to any further checks."
   ]
  },
  {
   "cell_type": "code",
   "execution_count": 59,
   "metadata": {},
   "outputs": [
    {
     "name": "stdout",
     "output_type": "stream",
     "text": [
      "Validation passed: Word list contains exactly 2048 words.\n"
     ]
    }
   ],
   "source": [
    "def validate_word_list_size(words):\n",
    "    \"\"\"\n",
    "    Validates that the BIP-39 word list contains exactly 2048 words.\n",
    "    \n",
    "    Raises:\n",
    "        ValueError: If the word list does not contain exactly 2048 words.\n",
    "    \"\"\"\n",
    "    expected_size = 2048\n",
    "    actual_size = len(words)\n",
    "    \n",
    "    if actual_size != expected_size:\n",
    "        raise ValueError(f\"Word list size validation failed. Expected {expected_size} words, but got {actual_size}.\")\n",
    "    \n",
    "    print(f\"Validation passed: Word list contains exactly {actual_size} words.\")\n",
    "\n",
    "validate_word_list_size(words)"
   ]
  },
  {
   "cell_type": "markdown",
   "metadata": {},
   "source": [
    "#### Word List Uniqueness\n",
    "- The function validate_word_list_uniqueness ensures that all words in the BIP-39 word list are unique. \n",
    "- If any duplicates are found, it raises an error, helping to confirm the integrity of the word list."
   ]
  },
  {
   "cell_type": "code",
   "execution_count": 60,
   "metadata": {},
   "outputs": [
    {
     "name": "stdout",
     "output_type": "stream",
     "text": [
      "Validation passed: All 2048 words are unique.\n"
     ]
    }
   ],
   "source": [
    "def validate_word_list_uniqueness(words):\n",
    "    \"\"\"\n",
    "    Validates that all words in the BIP-39 word list are unique.\n",
    "    \n",
    "    Raises:\n",
    "        ValueError: If there are duplicate words in the word list.\n",
    "    \"\"\"\n",
    "    unique_words = set(words)\n",
    "    if len(unique_words) != len(words):\n",
    "        raise ValueError(f\"Word list uniqueness validation failed. Found {len(words) - len(unique_words)} duplicates.\")\n",
    "    \n",
    "    print(f\"Validation passed: All {len(words)} words are unique.\")\n",
    "validate_word_list_uniqueness(words)"
   ]
  },
  {
   "cell_type": "markdown",
   "metadata": {},
   "source": [
    "#### Validating Unique First Four Letters\n",
    "This checks that each word in the BIP-39 word list is unique based on its first four letters. If duplicates are found in the first four letters of any words, it raises an error."
   ]
  },
  {
   "cell_type": "code",
   "execution_count": 61,
   "metadata": {},
   "outputs": [
    {
     "name": "stdout",
     "output_type": "stream",
     "text": [
      "Validation passed: All words have unique first four letters.\n"
     ]
    }
   ],
   "source": [
    "def validate_unique_first_four_letters(words):\n",
    "    \"\"\"\n",
    "    Validates that each word in the BIP-39 word list is unique based on its first four letters.\n",
    "    \n",
    "    Raises:\n",
    "        ValueError: If any two words have the same first four letters.\n",
    "    \"\"\"\n",
    "    # Extract first four letters of each word\n",
    "    first_four_letters = [word[:4] for word in words]\n",
    "    \n",
    "    # Convert to a set to remove duplicates and compare lengths\n",
    "    unique_first_four_letters = set(first_four_letters)\n",
    "    \n",
    "    if len(unique_first_four_letters) != len(words):\n",
    "        duplicates = len(words) - len(unique_first_four_letters)\n",
    "        raise ValueError(f\"Validation failed: Found {duplicates} words with duplicate first four letters.\")\n",
    "    \n",
    "    print(f\"Validation passed: All words have unique first four letters.\")\n",
    "\n",
    "validate_unique_first_four_letters(words)"
   ]
  },
  {
   "cell_type": "markdown",
   "metadata": {},
   "source": [
    "### Validating Alphabetical Order\n",
    "- Checks if the words in the BIP-39 word list are in alphabetical order. \n",
    "- If they are not, it raises an error specifying that the list is not sorted."
   ]
  },
  {
   "cell_type": "code",
   "execution_count": 62,
   "metadata": {},
   "outputs": [
    {
     "name": "stdout",
     "output_type": "stream",
     "text": [
      "Validation passed: Word list is in alphabetical order.\n"
     ]
    }
   ],
   "source": [
    "def validate_alphabetical_order(words):\n",
    "    \"\"\"\n",
    "    Validates that the BIP-39 word list is in alphabetical order.\n",
    "    \n",
    "    Raises:\n",
    "        ValueError: If the words are not in alphabetical order.\n",
    "    \"\"\"\n",
    "    # Check if the list is sorted\n",
    "    if words != sorted(words):\n",
    "        raise ValueError(\"Validation failed: Word list is not in alphabetical order.\")\n",
    "    \n",
    "    print(\"Validation passed: Word list is in alphabetical order.\")\n",
    "\n",
    "# Example usage\n",
    "validate_alphabetical_order(words)"
   ]
  },
  {
   "cell_type": "markdown",
   "metadata": {},
   "source": [
    "[Back to the top](#Contents)"
   ]
  },
  {
   "cell_type": "markdown",
   "metadata": {},
   "source": [
    "# EDA"
   ]
  },
  {
   "cell_type": "markdown",
   "metadata": {},
   "source": [
    "### Word Length Distribution\n",
    "- Understanding the distribution of word lengths can help identify if there are any patterns or biases in the seed words, which might affect user recall or recognition. \n",
    "- Additionally, most words in the list are between 4 and 8 letters long. This ensures that they are not too short (which could be harder to distinguish) or too long (which could be difficult to remember)."
   ]
  },
  {
   "cell_type": "code",
   "execution_count": 63,
   "metadata": {},
   "outputs": [
    {
     "data": {
      "image/png": "[encoded data removed]",
      "text/plain": [
       "<Figure size 600x800 with 1 Axes>"
      ]
     },
     "metadata": {},
     "output_type": "display_data"
    }
   ],
   "source": [
    "# Calculate word lengths\n",
    "word_lengths = [len(word) for word in words]\n",
    "\n",
    "# Create a DataFrame for visualization\n",
    "df_lengths = pd.DataFrame({'word': words, 'length': word_lengths})\n",
    "\n",
    "# Plot distribution\n",
    "# Calculate total words for percentage\n",
    "total_words = len(df_lengths)\n",
    "\n",
    "# Set bin edges\n",
    "bins = np.arange(min(df_lengths['length']) - 0.5, max(df_lengths['length']) + 1.5, 1)\n",
    "plt.figure(figsize=(6, 8)) \n",
    "\n",
    "# Plot histogram with counts\n",
    "counts, bins, patches = plt.hist(df_lengths['length'], bins=bins, edgecolor='black')\n",
    "plt.title('Word Length Distribution')\n",
    "plt.xlabel('Word Length')\n",
    "plt.ylabel('Frequency')\n",
    "\n",
    "# Annotate with count and percentage\n",
    "for count, patch in zip(counts, patches):\n",
    "    height = patch.get_height()\n",
    "    percentage = (count / total_words) * 100\n",
    "    plt.annotate(f'{int(count)}\\n({percentage:.1f}%)', xy=(patch.get_x() + patch.get_width() / 2, height),\n",
    "                 xytext=(0, 3), textcoords='offset points', ha='center')\n",
    "\n",
    "# Set consistent x-ticks\n",
    "plt.xticks(np.arange(min(word_lengths), max(word_lengths) + 1, 1))\n",
    "\n",
    "plt.show()\n"
   ]
  },
  {
   "cell_type": "markdown",
   "metadata": {},
   "source": [
    "[Back to the top](#Contents)"
   ]
  },
  {
   "cell_type": "markdown",
   "metadata": {},
   "source": [
    "### Word Frequency Analysis\n",
    "`Motivation`: Analyzing the starting letter of each word helps identify biases in the first letter, which could lead to easier or more difficult recall for users.\n",
    "\n",
    "\n",
    "\n"
   ]
  },
  {
   "cell_type": "code",
   "execution_count": 64,
   "metadata": {},
   "outputs": [
    {
     "data": {
      "text/plain": [
       "<Figure size 1200x1200 with 0 Axes>"
      ]
     },
     "metadata": {},
     "output_type": "display_data"
    },
    {
     "data": {
      "image/png": "[encoded data removed]",
      "text/plain": [
       "<Figure size 640x480 with 1 Axes>"
      ]
     },
     "metadata": {},
     "output_type": "display_data"
    }
   ],
   "source": [
    "# Get first letter of each word\n",
    "first_letters = [word[0] for word in words]\n",
    "\n",
    "# Count occurrences of each letter\n",
    "letter_counts = Counter(first_letters)\n",
    "\n",
    "# Convert to DataFrame for visualization\n",
    "df_letters = pd.DataFrame(list(letter_counts.items()), columns=['letter', 'count'])\n",
    "\n",
    "# Calculate total number of words for percentage\n",
    "total_words = sum(letter_counts.values())\n",
    "\n",
    "# Create a larger figure size\n",
    "plt.figure(figsize=(12, 12))  # Increase width and height of the canvas\n",
    "\n",
    "# Plot the counts of starting letters\n",
    "ax = df_letters.sort_values(by='count', ascending=False).plot(kind='bar', x='letter', y='count', legend=False)\n",
    "plt.title('Starting Letter Frequency')\n",
    "plt.xlabel('Starting Letter')\n",
    "plt.ylabel('Frequency')\n",
    "\n",
    "# Annotate with percentages on top of bars\n",
    "for p in ax.patches:\n",
    "    percentage = (p.get_height() / total_words) * 100  # Calculate percentage\n",
    "    ax.annotate(f'{percentage:.1f}%', (p.get_x() + p.get_width() / 2., p.get_height()),\n",
    "                ha='center', va='bottom', xytext=(0, 3), textcoords='offset points', fontsize=7)  # Smaller font size\n",
    "\n",
    "# Set x-tick labels with no rotation\n",
    "ax.set_xticklabels(df_letters['letter'], rotation=0)\n",
    "\n",
    "# Show plot\n",
    "plt.show()\n"
   ]
  },
  {
   "cell_type": "markdown",
   "metadata": {},
   "source": [
    "[Back to the top](#Contents)"
   ]
  },
  {
   "cell_type": "markdown",
   "metadata": {},
   "source": [
    "### Jaccard Distance"
   ]
  },
  {
   "cell_type": "code",
   "execution_count": 67,
   "metadata": {},
   "outputs": [
    {
     "name": "stdout",
     "output_type": "stream",
     "text": [
      "Jaccard distance between 'abandon' and 'ability': 0.778\n"
     ]
    }
   ],
   "source": [
    "def jaccard_distance(word1, word2):\n",
    "    \"\"\"\n",
    "    Computes the Jaccard distance between two words based on their characters.\n",
    "    \n",
    "    Args:\n",
    "        word1 (str): First word.\n",
    "        word2 (str): Second word.\n",
    "    \n",
    "    Returns:\n",
    "        float: Jaccard distance between word1 and word2.\n",
    "    \"\"\"\n",
    "    set1 = set(word1)\n",
    "    set2 = set(word2)\n",
    "    \n",
    "    intersection = len(set1.intersection(set2))\n",
    "    union = len(set1.union(set2))\n",
    "    \n",
    "    # Jaccard distance is 1 minus the Jaccard index\n",
    "    return 1 - intersection / union if union != 0 else 0\n",
    "\n",
    "# Example usage\n",
    "word1 = \"abandon\"\n",
    "word2 = \"ability\"\n",
    "distance = jaccard_distance(word1, word2)\n",
    "print(f\"Jaccard distance between '{word1}' and '{word2}': {distance:.3f}\")\n"
   ]
  },
  {
   "cell_type": "code",
   "execution_count": 77,
   "metadata": {},
   "outputs": [
    {
     "data": {
      "text/html": [
       "<div>\n",
       "<style scoped>\n",
       "    .dataframe tbody tr th:only-of-type {\n",
       "        vertical-align: middle;\n",
       "    }\n",
       "\n",
       "    .dataframe tbody tr th {\n",
       "        vertical-align: top;\n",
       "    }\n",
       "\n",
       "    .dataframe thead th {\n",
       "        text-align: right;\n",
       "    }\n",
       "</style>\n",
       "<table border=\"1\" class=\"dataframe\">\n",
       "  <thead>\n",
       "    <tr style=\"text-align: right;\">\n",
       "      <th></th>\n",
       "      <th>word1</th>\n",
       "      <th>word2</th>\n",
       "      <th>jaccard_distance</th>\n",
       "    </tr>\n",
       "  </thead>\n",
       "  <tbody>\n",
       "    <tr>\n",
       "      <th>357758</th>\n",
       "      <td>bitter</td>\n",
       "      <td>tribe</td>\n",
       "      <td>0.0</td>\n",
       "    </tr>\n",
       "    <tr>\n",
       "      <th>182644</th>\n",
       "      <td>arena</td>\n",
       "      <td>earn</td>\n",
       "      <td>0.0</td>\n",
       "    </tr>\n",
       "    <tr>\n",
       "      <th>261494</th>\n",
       "      <td>away</td>\n",
       "      <td>way</td>\n",
       "      <td>0.0</td>\n",
       "    </tr>\n",
       "    <tr>\n",
       "      <th>1796255</th>\n",
       "      <td>palace</td>\n",
       "      <td>place</td>\n",
       "      <td>0.0</td>\n",
       "    </tr>\n",
       "    <tr>\n",
       "      <th>1467505</th>\n",
       "      <td>inherit</td>\n",
       "      <td>neither</td>\n",
       "      <td>0.0</td>\n",
       "    </tr>\n",
       "    <tr>\n",
       "      <th>650981</th>\n",
       "      <td>clock</td>\n",
       "      <td>lock</td>\n",
       "      <td>0.0</td>\n",
       "    </tr>\n",
       "    <tr>\n",
       "      <th>677892</th>\n",
       "      <td>coin</td>\n",
       "      <td>icon</td>\n",
       "      <td>0.0</td>\n",
       "    </tr>\n",
       "    <tr>\n",
       "      <th>1578859</th>\n",
       "      <td>liar</td>\n",
       "      <td>rail</td>\n",
       "      <td>0.0</td>\n",
       "    </tr>\n",
       "    <tr>\n",
       "      <th>46319</th>\n",
       "      <td>actress</td>\n",
       "      <td>scatter</td>\n",
       "      <td>0.0</td>\n",
       "    </tr>\n",
       "    <tr>\n",
       "      <th>1723217</th>\n",
       "      <td>negative</td>\n",
       "      <td>vintage</td>\n",
       "      <td>0.0</td>\n",
       "    </tr>\n",
       "    <tr>\n",
       "      <th>1744641</th>\n",
       "      <td>now</td>\n",
       "      <td>own</td>\n",
       "      <td>0.0</td>\n",
       "    </tr>\n",
       "    <tr>\n",
       "      <th>305069</th>\n",
       "      <td>battle</td>\n",
       "      <td>table</td>\n",
       "      <td>0.0</td>\n",
       "    </tr>\n",
       "    <tr>\n",
       "      <th>1728210</th>\n",
       "      <td>net</td>\n",
       "      <td>ten</td>\n",
       "      <td>0.0</td>\n",
       "    </tr>\n",
       "    <tr>\n",
       "      <th>1974579</th>\n",
       "      <td>seat</td>\n",
       "      <td>taste</td>\n",
       "      <td>0.0</td>\n",
       "    </tr>\n",
       "    <tr>\n",
       "      <th>986477</th>\n",
       "      <td>east</td>\n",
       "      <td>state</td>\n",
       "      <td>0.0</td>\n",
       "    </tr>\n",
       "    <tr>\n",
       "      <th>923668</th>\n",
       "      <td>dog</td>\n",
       "      <td>good</td>\n",
       "      <td>0.0</td>\n",
       "    </tr>\n",
       "    <tr>\n",
       "      <th>38988</th>\n",
       "      <td>act</td>\n",
       "      <td>cat</td>\n",
       "      <td>0.0</td>\n",
       "    </tr>\n",
       "    <tr>\n",
       "      <th>1902803</th>\n",
       "      <td>rate</td>\n",
       "      <td>treat</td>\n",
       "      <td>0.0</td>\n",
       "    </tr>\n",
       "    <tr>\n",
       "      <th>1431822</th>\n",
       "      <td>hurt</td>\n",
       "      <td>truth</td>\n",
       "      <td>0.0</td>\n",
       "    </tr>\n",
       "    <tr>\n",
       "      <th>234804</th>\n",
       "      <td>attract</td>\n",
       "      <td>cart</td>\n",
       "      <td>0.0</td>\n",
       "    </tr>\n",
       "  </tbody>\n",
       "</table>\n",
       "</div>"
      ],
      "text/plain": [
       "            word1    word2  jaccard_distance\n",
       "357758     bitter    tribe               0.0\n",
       "182644      arena     earn               0.0\n",
       "261494       away      way               0.0\n",
       "1796255    palace    place               0.0\n",
       "1467505   inherit  neither               0.0\n",
       "650981      clock     lock               0.0\n",
       "677892       coin     icon               0.0\n",
       "1578859      liar     rail               0.0\n",
       "46319     actress  scatter               0.0\n",
       "1723217  negative  vintage               0.0\n",
       "1744641       now      own               0.0\n",
       "305069     battle    table               0.0\n",
       "1728210       net      ten               0.0\n",
       "1974579      seat    taste               0.0\n",
       "986477       east    state               0.0\n",
       "923668        dog     good               0.0\n",
       "38988         act      cat               0.0\n",
       "1902803      rate    treat               0.0\n",
       "1431822      hurt    truth               0.0\n",
       "234804    attract     cart               0.0"
      ]
     },
     "execution_count": 77,
     "metadata": {},
     "output_type": "execute_result"
    }
   ],
   "source": [
    "import pandas as pd\n",
    "from itertools import combinations\n",
    "\n",
    "def calculate_jaccard_distances(words):\n",
    "    \"\"\"\n",
    "    Computes the Jaccard distance between all pairs of words in the list.\n",
    "    \n",
    "    Args:\n",
    "        words (list): List of words.\n",
    "    \n",
    "    Returns:\n",
    "        DataFrame: A DataFrame with word pairs and their corresponding Jaccard distances.\n",
    "    \"\"\"\n",
    "    word_pairs = list(combinations(words, 2))  # All unique pairs of words\n",
    "    jaccard_distances = []\n",
    "    \n",
    "    for word1, word2 in word_pairs:\n",
    "        distance = jaccard_distance(word1, word2)\n",
    "        jaccard_distances.append({'word1': word1, 'word2': word2, 'jaccard_distance': distance})\n",
    "    \n",
    "    return pd.DataFrame(jaccard_distances)\n",
    "\n",
    "# Example usage with BIP-39 word list\n",
    "jaccard_df = calculate_jaccard_distances(words)\n",
    "jaccard_df = jaccard_df.sort_values(by='jaccard_distance', ascending=True)\n",
    "jaccard_df.head(20)\n"
   ]
  },
  {
   "cell_type": "code",
   "execution_count": 72,
   "metadata": {},
   "outputs": [
    {
     "data": {
      "image/png": "[encoded data removed]",
      "text/plain": [
       "<Figure size 1000x600 with 1 Axes>"
      ]
     },
     "metadata": {},
     "output_type": "display_data"
    }
   ],
   "source": [
    "# Plot a histogram of the Jaccard distances\n",
    "plt.figure(figsize=(10, 6))  # Set canvas size\n",
    "plt.hist(jaccard_df['jaccard_distance'], bins=30, edgecolor='black', alpha=0.7)\n",
    "\n",
    "# Set titles and labels\n",
    "plt.title('Histogram of Jaccard Distances Between BIP-39 Words')\n",
    "plt.xlabel('Jaccard Distance')\n",
    "plt.ylabel('Frequency')\n",
    "\n",
    "# Add vertical lines for cutoffs\n",
    "plt.axvline(x=0.2, color='r', linestyle='--', linewidth=2)\n",
    "plt.axvline(x=0.5, color='g', linestyle='--', linewidth=2)\n",
    "\n",
    "# Manually create the legend labels for each compartment\n",
    "plt.text(0.1, plt.ylim()[1]*0.9, 'High Similarity', color='red', fontsize=12, ha='center')\n",
    "plt.text(0.35, plt.ylim()[1]*0.9, 'Medium Similarity', color='green', fontsize=12, ha='center')\n",
    "plt.text(0.75, plt.ylim()[1]*0.9, 'Low Similarity', color='blue', fontsize=12, ha='center')\n",
    "\n",
    "# Show the plot\n",
    "plt.show()\n"
   ]
  },
  {
   "cell_type": "markdown",
   "metadata": {},
   "source": [
    "# 99 Stray Codes"
   ]
  },
  {
   "cell_type": "code",
   "execution_count": 73,
   "metadata": {},
   "outputs": [],
   "source": [
    "# ls -l /Users/ashrithreddy/Documents/bitcoin_utils/data/bip_39_wordlist_revb.pdf\n",
    "# import os\n",
    "# os.getcwd()\n",
    "\n",
    "# pdf_path = os.path.join(os.path.expanduser(\"~\"), 'Documents', 'bitcoin_utils', 'data', 'bip_39_wordlist_revb.pdf')\n",
    "# pdf_path\n",
    "# pdf_path = '/Users/ashrithreddy/Documents/bitcoin_utils/data/bip_39_wordlist_revb.pdf'\n",
    "# /Users/ashrithreddy/Documents/bitcoin_utils/data/"
   ]
  },
  {
   "cell_type": "code",
   "execution_count": 74,
   "metadata": {},
   "outputs": [],
   "source": [
    "# os.getcwd()"
   ]
  }
 ],
 "metadata": {
  "kernelspec": {
   "display_name": "Python 3",
   "language": "python",
   "name": "python3"
  },
  "language_info": {
   "codemirror_mode": {
    "name": "ipython",
    "version": 3
   },
   "file_extension": ".py",
   "mimetype": "text/x-python",
   "name": "python",
   "nbconvert_exporter": "python",
   "pygments_lexer": "ipython3",
   "version": "3.11.7"
  }
 },
 "nbformat": 4,
 "nbformat_minor": 2
}
